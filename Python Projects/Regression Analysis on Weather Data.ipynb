{
 "cells": [
  {
   "cell_type": "markdown",
   "id": "486d89e5",
   "metadata": {},
   "source": [
    "# Regression analysis of Weather Data of Szeged"
   ]
  },
  {
   "cell_type": "markdown",
   "id": "3b3bd5d4",
   "metadata": {},
   "source": [
    "1st of all we will install all the required packaged"
   ]
  },
  {
   "cell_type": "code",
   "execution_count": 2,
   "id": "e7430760",
   "metadata": {},
   "outputs": [],
   "source": [
    "import numpy as np\n",
    "import matplotlib.pyplot as plt\n",
    "import pandas as pd\n",
    "import os\n",
    "import statsmodels.api as sm\n",
    "import seaborn as sns\n",
    "import matplotlib.pyplot as plt\n",
    "%matplotlib inline"
   ]
  },
  {
   "cell_type": "markdown",
   "id": "36c16be4",
   "metadata": {},
   "source": [
    "# Data Importing"
   ]
  },
  {
   "cell_type": "markdown",
   "id": "ed3e79aa",
   "metadata": {},
   "source": [
    "Then we will import the data "
   ]
  },
  {
   "cell_type": "code",
   "execution_count": 3,
   "id": "2a71f9c7",
   "metadata": {},
   "outputs": [
    {
     "data": {
      "text/html": [
       "<div>\n",
       "<style scoped>\n",
       "    .dataframe tbody tr th:only-of-type {\n",
       "        vertical-align: middle;\n",
       "    }\n",
       "\n",
       "    .dataframe tbody tr th {\n",
       "        vertical-align: top;\n",
       "    }\n",
       "\n",
       "    .dataframe thead th {\n",
       "        text-align: right;\n",
       "    }\n",
       "</style>\n",
       "<table border=\"1\" class=\"dataframe\">\n",
       "  <thead>\n",
       "    <tr style=\"text-align: right;\">\n",
       "      <th></th>\n",
       "      <th>Formatted Date</th>\n",
       "      <th>Summary</th>\n",
       "      <th>Precip Type</th>\n",
       "      <th>Temperature (C)</th>\n",
       "      <th>Apparent Temperature (C)</th>\n",
       "      <th>Humidity</th>\n",
       "      <th>Wind Speed (km/h)</th>\n",
       "      <th>Wind Bearing (degrees)</th>\n",
       "      <th>Visibility (km)</th>\n",
       "      <th>Loud Cover</th>\n",
       "      <th>Pressure (millibars)</th>\n",
       "      <th>Daily Summary</th>\n",
       "    </tr>\n",
       "  </thead>\n",
       "  <tbody>\n",
       "    <tr>\n",
       "      <th>0</th>\n",
       "      <td>2006-04-01 00:00:00.000 +0200</td>\n",
       "      <td>Partly Cloudy</td>\n",
       "      <td>rain</td>\n",
       "      <td>9.472222</td>\n",
       "      <td>7.388889</td>\n",
       "      <td>0.89</td>\n",
       "      <td>14.1197</td>\n",
       "      <td>251.0</td>\n",
       "      <td>15.8263</td>\n",
       "      <td>0.0</td>\n",
       "      <td>1015.13</td>\n",
       "      <td>Partly cloudy throughout the day.</td>\n",
       "    </tr>\n",
       "    <tr>\n",
       "      <th>1</th>\n",
       "      <td>2006-04-01 01:00:00.000 +0200</td>\n",
       "      <td>Partly Cloudy</td>\n",
       "      <td>rain</td>\n",
       "      <td>9.355556</td>\n",
       "      <td>7.227778</td>\n",
       "      <td>0.86</td>\n",
       "      <td>14.2646</td>\n",
       "      <td>259.0</td>\n",
       "      <td>15.8263</td>\n",
       "      <td>0.0</td>\n",
       "      <td>1015.63</td>\n",
       "      <td>Partly cloudy throughout the day.</td>\n",
       "    </tr>\n",
       "    <tr>\n",
       "      <th>2</th>\n",
       "      <td>2006-04-01 02:00:00.000 +0200</td>\n",
       "      <td>Mostly Cloudy</td>\n",
       "      <td>rain</td>\n",
       "      <td>9.377778</td>\n",
       "      <td>9.377778</td>\n",
       "      <td>0.89</td>\n",
       "      <td>3.9284</td>\n",
       "      <td>204.0</td>\n",
       "      <td>14.9569</td>\n",
       "      <td>0.0</td>\n",
       "      <td>1015.94</td>\n",
       "      <td>Partly cloudy throughout the day.</td>\n",
       "    </tr>\n",
       "  </tbody>\n",
       "</table>\n",
       "</div>"
      ],
      "text/plain": [
       "                  Formatted Date        Summary Precip Type  Temperature (C)  \\\n",
       "0  2006-04-01 00:00:00.000 +0200  Partly Cloudy        rain         9.472222   \n",
       "1  2006-04-01 01:00:00.000 +0200  Partly Cloudy        rain         9.355556   \n",
       "2  2006-04-01 02:00:00.000 +0200  Mostly Cloudy        rain         9.377778   \n",
       "\n",
       "   Apparent Temperature (C)  Humidity  Wind Speed (km/h)  \\\n",
       "0                  7.388889      0.89            14.1197   \n",
       "1                  7.227778      0.86            14.2646   \n",
       "2                  9.377778      0.89             3.9284   \n",
       "\n",
       "   Wind Bearing (degrees)  Visibility (km)  Loud Cover  Pressure (millibars)  \\\n",
       "0                   251.0          15.8263         0.0               1015.13   \n",
       "1                   259.0          15.8263         0.0               1015.63   \n",
       "2                   204.0          14.9569         0.0               1015.94   \n",
       "\n",
       "                       Daily Summary  \n",
       "0  Partly cloudy throughout the day.  \n",
       "1  Partly cloudy throughout the day.  \n",
       "2  Partly cloudy throughout the day.  "
      ]
     },
     "execution_count": 3,
     "metadata": {},
     "output_type": "execute_result"
    }
   ],
   "source": [
    "os.chdir(R'A:\\Work\\Course\\Analytics\\IVY Pro\\Python\\Part B Data Analysis\\Regression\\Case Study 2')\n",
    "path_data = os.getcwd()\n",
    "weather_data = pd.read_csv('WeatherHistory.csv')\n",
    "weather_data.head(3)"
   ]
  },
  {
   "cell_type": "markdown",
   "id": "384dca27",
   "metadata": {},
   "source": [
    "Here we have looked the data frame. However it makes sense to find relation between variables, looking at categorical variables and then also removing outliers"
   ]
  },
  {
   "cell_type": "markdown",
   "id": "42781c8b",
   "metadata": {},
   "source": [
    "# Exploratory Data Analysis"
   ]
  },
  {
   "cell_type": "code",
   "execution_count": 4,
   "id": "a920c223",
   "metadata": {},
   "outputs": [],
   "source": [
    "All=weather_data.describe(include='all')# describes allnumerical and  categorical data\n",
    "Cat=weather_data.describe(include=['O'])# describes all  categorical data\n",
    "Cor=weather_data.corr()\n",
    "data_set=weather_data.iloc[:,[0,2,3,4,5,8]]\n",
    "Cor_s=data_set.corr()"
   ]
  },
  {
   "cell_type": "code",
   "execution_count": 117,
   "id": "936c0572",
   "metadata": {},
   "outputs": [
    {
     "data": {
      "text/html": [
       "<div>\n",
       "<style scoped>\n",
       "    .dataframe tbody tr th:only-of-type {\n",
       "        vertical-align: middle;\n",
       "    }\n",
       "\n",
       "    .dataframe tbody tr th {\n",
       "        vertical-align: top;\n",
       "    }\n",
       "\n",
       "    .dataframe thead th {\n",
       "        text-align: right;\n",
       "    }\n",
       "</style>\n",
       "<table border=\"1\" class=\"dataframe\">\n",
       "  <thead>\n",
       "    <tr style=\"text-align: right;\">\n",
       "      <th></th>\n",
       "      <th>Temperature (C)</th>\n",
       "      <th>Apparent Temperature (C)</th>\n",
       "      <th>Humidity</th>\n",
       "      <th>Wind Speed (km/h)</th>\n",
       "      <th>Wind Bearing (degrees)</th>\n",
       "      <th>Visibility (km)</th>\n",
       "      <th>Loud Cover</th>\n",
       "      <th>Pressure (millibars)</th>\n",
       "    </tr>\n",
       "  </thead>\n",
       "  <tbody>\n",
       "    <tr>\n",
       "      <th>Temperature (C)</th>\n",
       "      <td>1.000000</td>\n",
       "      <td>0.992629</td>\n",
       "      <td>-0.632255</td>\n",
       "      <td>0.008957</td>\n",
       "      <td>0.029988</td>\n",
       "      <td>0.392847</td>\n",
       "      <td>NaN</td>\n",
       "      <td>-0.005447</td>\n",
       "    </tr>\n",
       "    <tr>\n",
       "      <th>Apparent Temperature (C)</th>\n",
       "      <td>0.992629</td>\n",
       "      <td>1.000000</td>\n",
       "      <td>-0.602571</td>\n",
       "      <td>-0.056650</td>\n",
       "      <td>0.029031</td>\n",
       "      <td>0.381718</td>\n",
       "      <td>NaN</td>\n",
       "      <td>-0.000219</td>\n",
       "    </tr>\n",
       "    <tr>\n",
       "      <th>Humidity</th>\n",
       "      <td>-0.632255</td>\n",
       "      <td>-0.602571</td>\n",
       "      <td>1.000000</td>\n",
       "      <td>-0.224951</td>\n",
       "      <td>0.000735</td>\n",
       "      <td>-0.369173</td>\n",
       "      <td>NaN</td>\n",
       "      <td>0.005454</td>\n",
       "    </tr>\n",
       "    <tr>\n",
       "      <th>Wind Speed (km/h)</th>\n",
       "      <td>0.008957</td>\n",
       "      <td>-0.056650</td>\n",
       "      <td>-0.224951</td>\n",
       "      <td>1.000000</td>\n",
       "      <td>0.103822</td>\n",
       "      <td>0.100749</td>\n",
       "      <td>NaN</td>\n",
       "      <td>-0.049263</td>\n",
       "    </tr>\n",
       "    <tr>\n",
       "      <th>Wind Bearing (degrees)</th>\n",
       "      <td>0.029988</td>\n",
       "      <td>0.029031</td>\n",
       "      <td>0.000735</td>\n",
       "      <td>0.103822</td>\n",
       "      <td>1.000000</td>\n",
       "      <td>0.047594</td>\n",
       "      <td>NaN</td>\n",
       "      <td>-0.011651</td>\n",
       "    </tr>\n",
       "    <tr>\n",
       "      <th>Visibility (km)</th>\n",
       "      <td>0.392847</td>\n",
       "      <td>0.381718</td>\n",
       "      <td>-0.369173</td>\n",
       "      <td>0.100749</td>\n",
       "      <td>0.047594</td>\n",
       "      <td>1.000000</td>\n",
       "      <td>NaN</td>\n",
       "      <td>0.059818</td>\n",
       "    </tr>\n",
       "    <tr>\n",
       "      <th>Loud Cover</th>\n",
       "      <td>NaN</td>\n",
       "      <td>NaN</td>\n",
       "      <td>NaN</td>\n",
       "      <td>NaN</td>\n",
       "      <td>NaN</td>\n",
       "      <td>NaN</td>\n",
       "      <td>NaN</td>\n",
       "      <td>NaN</td>\n",
       "    </tr>\n",
       "    <tr>\n",
       "      <th>Pressure (millibars)</th>\n",
       "      <td>-0.005447</td>\n",
       "      <td>-0.000219</td>\n",
       "      <td>0.005454</td>\n",
       "      <td>-0.049263</td>\n",
       "      <td>-0.011651</td>\n",
       "      <td>0.059818</td>\n",
       "      <td>NaN</td>\n",
       "      <td>1.000000</td>\n",
       "    </tr>\n",
       "  </tbody>\n",
       "</table>\n",
       "</div>"
      ],
      "text/plain": [
       "                          Temperature (C)  Apparent Temperature (C)  Humidity  \\\n",
       "Temperature (C)                  1.000000                  0.992629 -0.632255   \n",
       "Apparent Temperature (C)         0.992629                  1.000000 -0.602571   \n",
       "Humidity                        -0.632255                 -0.602571  1.000000   \n",
       "Wind Speed (km/h)                0.008957                 -0.056650 -0.224951   \n",
       "Wind Bearing (degrees)           0.029988                  0.029031  0.000735   \n",
       "Visibility (km)                  0.392847                  0.381718 -0.369173   \n",
       "Loud Cover                            NaN                       NaN       NaN   \n",
       "Pressure (millibars)            -0.005447                 -0.000219  0.005454   \n",
       "\n",
       "                          Wind Speed (km/h)  Wind Bearing (degrees)  \\\n",
       "Temperature (C)                    0.008957                0.029988   \n",
       "Apparent Temperature (C)          -0.056650                0.029031   \n",
       "Humidity                          -0.224951                0.000735   \n",
       "Wind Speed (km/h)                  1.000000                0.103822   \n",
       "Wind Bearing (degrees)             0.103822                1.000000   \n",
       "Visibility (km)                    0.100749                0.047594   \n",
       "Loud Cover                              NaN                     NaN   \n",
       "Pressure (millibars)              -0.049263               -0.011651   \n",
       "\n",
       "                          Visibility (km)  Loud Cover  Pressure (millibars)  \n",
       "Temperature (C)                  0.392847         NaN             -0.005447  \n",
       "Apparent Temperature (C)         0.381718         NaN             -0.000219  \n",
       "Humidity                        -0.369173         NaN              0.005454  \n",
       "Wind Speed (km/h)                0.100749         NaN             -0.049263  \n",
       "Wind Bearing (degrees)           0.047594         NaN             -0.011651  \n",
       "Visibility (km)                  1.000000         NaN              0.059818  \n",
       "Loud Cover                            NaN         NaN                   NaN  \n",
       "Pressure (millibars)             0.059818         NaN              1.000000  "
      ]
     },
     "execution_count": 117,
     "metadata": {},
     "output_type": "execute_result"
    }
   ],
   "source": [
    "Cor"
   ]
  },
  {
   "cell_type": "code",
   "execution_count": 18,
   "id": "b08b3705",
   "metadata": {},
   "outputs": [
    {
     "data": {
      "text/html": [
       "<div>\n",
       "<style scoped>\n",
       "    .dataframe tbody tr th:only-of-type {\n",
       "        vertical-align: middle;\n",
       "    }\n",
       "\n",
       "    .dataframe tbody tr th {\n",
       "        vertical-align: top;\n",
       "    }\n",
       "\n",
       "    .dataframe thead th {\n",
       "        text-align: right;\n",
       "    }\n",
       "</style>\n",
       "<table border=\"1\" class=\"dataframe\">\n",
       "  <thead>\n",
       "    <tr style=\"text-align: right;\">\n",
       "      <th></th>\n",
       "      <th>Temperature (C)</th>\n",
       "      <th>Apparent Temperature (C)</th>\n",
       "      <th>Humidity</th>\n",
       "      <th>Visibility (km)</th>\n",
       "    </tr>\n",
       "  </thead>\n",
       "  <tbody>\n",
       "    <tr>\n",
       "      <th>count</th>\n",
       "      <td>96453.000000</td>\n",
       "      <td>96453.000000</td>\n",
       "      <td>96453.000000</td>\n",
       "      <td>96453.000000</td>\n",
       "    </tr>\n",
       "    <tr>\n",
       "      <th>mean</th>\n",
       "      <td>11.932678</td>\n",
       "      <td>10.855029</td>\n",
       "      <td>0.734899</td>\n",
       "      <td>10.347325</td>\n",
       "    </tr>\n",
       "    <tr>\n",
       "      <th>std</th>\n",
       "      <td>9.551546</td>\n",
       "      <td>10.696847</td>\n",
       "      <td>0.195473</td>\n",
       "      <td>4.192123</td>\n",
       "    </tr>\n",
       "    <tr>\n",
       "      <th>min</th>\n",
       "      <td>-21.822222</td>\n",
       "      <td>-27.716667</td>\n",
       "      <td>0.000000</td>\n",
       "      <td>0.000000</td>\n",
       "    </tr>\n",
       "    <tr>\n",
       "      <th>25%</th>\n",
       "      <td>4.688889</td>\n",
       "      <td>2.311111</td>\n",
       "      <td>0.600000</td>\n",
       "      <td>8.339800</td>\n",
       "    </tr>\n",
       "    <tr>\n",
       "      <th>50%</th>\n",
       "      <td>12.000000</td>\n",
       "      <td>12.000000</td>\n",
       "      <td>0.780000</td>\n",
       "      <td>10.046400</td>\n",
       "    </tr>\n",
       "    <tr>\n",
       "      <th>75%</th>\n",
       "      <td>18.838889</td>\n",
       "      <td>18.838889</td>\n",
       "      <td>0.890000</td>\n",
       "      <td>14.812000</td>\n",
       "    </tr>\n",
       "    <tr>\n",
       "      <th>max</th>\n",
       "      <td>39.905556</td>\n",
       "      <td>39.344444</td>\n",
       "      <td>1.000000</td>\n",
       "      <td>16.100000</td>\n",
       "    </tr>\n",
       "  </tbody>\n",
       "</table>\n",
       "</div>"
      ],
      "text/plain": [
       "       Temperature (C)  Apparent Temperature (C)      Humidity  \\\n",
       "count     96453.000000              96453.000000  96453.000000   \n",
       "mean         11.932678                 10.855029      0.734899   \n",
       "std           9.551546                 10.696847      0.195473   \n",
       "min         -21.822222                -27.716667      0.000000   \n",
       "25%           4.688889                  2.311111      0.600000   \n",
       "50%          12.000000                 12.000000      0.780000   \n",
       "75%          18.838889                 18.838889      0.890000   \n",
       "max          39.905556                 39.344444      1.000000   \n",
       "\n",
       "       Visibility (km)  \n",
       "count     96453.000000  \n",
       "mean         10.347325  \n",
       "std           4.192123  \n",
       "min           0.000000  \n",
       "25%           8.339800  \n",
       "50%          10.046400  \n",
       "75%          14.812000  \n",
       "max          16.100000  "
      ]
     },
     "execution_count": 18,
     "metadata": {},
     "output_type": "execute_result"
    }
   ],
   "source": [
    "data_set.describe()"
   ]
  },
  {
   "cell_type": "code",
   "execution_count": 5,
   "id": "9eceae41",
   "metadata": {},
   "outputs": [
    {
     "data": {
      "text/html": [
       "<div>\n",
       "<style scoped>\n",
       "    .dataframe tbody tr th:only-of-type {\n",
       "        vertical-align: middle;\n",
       "    }\n",
       "\n",
       "    .dataframe tbody tr th {\n",
       "        vertical-align: top;\n",
       "    }\n",
       "\n",
       "    .dataframe thead th {\n",
       "        text-align: right;\n",
       "    }\n",
       "</style>\n",
       "<table border=\"1\" class=\"dataframe\">\n",
       "  <thead>\n",
       "    <tr style=\"text-align: right;\">\n",
       "      <th></th>\n",
       "      <th>Formatted Date</th>\n",
       "      <th>Precip Type</th>\n",
       "      <th>Temperature (C)</th>\n",
       "      <th>Apparent Temperature (C)</th>\n",
       "      <th>Humidity</th>\n",
       "      <th>Visibility (km)</th>\n",
       "    </tr>\n",
       "  </thead>\n",
       "  <tbody>\n",
       "    <tr>\n",
       "      <th>0</th>\n",
       "      <td>2006-04-01 00:00:00.000 +0200</td>\n",
       "      <td>rain</td>\n",
       "      <td>9.472222</td>\n",
       "      <td>7.388889</td>\n",
       "      <td>0.89</td>\n",
       "      <td>15.8263</td>\n",
       "    </tr>\n",
       "    <tr>\n",
       "      <th>1</th>\n",
       "      <td>2006-04-01 01:00:00.000 +0200</td>\n",
       "      <td>rain</td>\n",
       "      <td>9.355556</td>\n",
       "      <td>7.227778</td>\n",
       "      <td>0.86</td>\n",
       "      <td>15.8263</td>\n",
       "    </tr>\n",
       "    <tr>\n",
       "      <th>2</th>\n",
       "      <td>2006-04-01 02:00:00.000 +0200</td>\n",
       "      <td>rain</td>\n",
       "      <td>9.377778</td>\n",
       "      <td>9.377778</td>\n",
       "      <td>0.89</td>\n",
       "      <td>14.9569</td>\n",
       "    </tr>\n",
       "    <tr>\n",
       "      <th>3</th>\n",
       "      <td>2006-04-01 03:00:00.000 +0200</td>\n",
       "      <td>rain</td>\n",
       "      <td>8.288889</td>\n",
       "      <td>5.944444</td>\n",
       "      <td>0.83</td>\n",
       "      <td>15.8263</td>\n",
       "    </tr>\n",
       "    <tr>\n",
       "      <th>4</th>\n",
       "      <td>2006-04-01 04:00:00.000 +0200</td>\n",
       "      <td>rain</td>\n",
       "      <td>8.755556</td>\n",
       "      <td>6.977778</td>\n",
       "      <td>0.83</td>\n",
       "      <td>15.8263</td>\n",
       "    </tr>\n",
       "  </tbody>\n",
       "</table>\n",
       "</div>"
      ],
      "text/plain": [
       "                  Formatted Date Precip Type  Temperature (C)  \\\n",
       "0  2006-04-01 00:00:00.000 +0200        rain         9.472222   \n",
       "1  2006-04-01 01:00:00.000 +0200        rain         9.355556   \n",
       "2  2006-04-01 02:00:00.000 +0200        rain         9.377778   \n",
       "3  2006-04-01 03:00:00.000 +0200        rain         8.288889   \n",
       "4  2006-04-01 04:00:00.000 +0200        rain         8.755556   \n",
       "\n",
       "   Apparent Temperature (C)  Humidity  Visibility (km)  \n",
       "0                  7.388889      0.89          15.8263  \n",
       "1                  7.227778      0.86          15.8263  \n",
       "2                  9.377778      0.89          14.9569  \n",
       "3                  5.944444      0.83          15.8263  \n",
       "4                  6.977778      0.83          15.8263  "
      ]
     },
     "execution_count": 5,
     "metadata": {},
     "output_type": "execute_result"
    }
   ],
   "source": [
    "data_set.head()"
   ]
  },
  {
   "cell_type": "code",
   "execution_count": 6,
   "id": "6e000b18",
   "metadata": {},
   "outputs": [
    {
     "data": {
      "text/html": [
       "<div>\n",
       "<style scoped>\n",
       "    .dataframe tbody tr th:only-of-type {\n",
       "        vertical-align: middle;\n",
       "    }\n",
       "\n",
       "    .dataframe tbody tr th {\n",
       "        vertical-align: top;\n",
       "    }\n",
       "\n",
       "    .dataframe thead th {\n",
       "        text-align: right;\n",
       "    }\n",
       "</style>\n",
       "<table border=\"1\" class=\"dataframe\">\n",
       "  <thead>\n",
       "    <tr style=\"text-align: right;\">\n",
       "      <th></th>\n",
       "      <th>Temperature (C)</th>\n",
       "      <th>Apparent Temperature (C)</th>\n",
       "      <th>Humidity</th>\n",
       "      <th>Visibility (km)</th>\n",
       "    </tr>\n",
       "  </thead>\n",
       "  <tbody>\n",
       "    <tr>\n",
       "      <th>Temperature (C)</th>\n",
       "      <td>1.000000</td>\n",
       "      <td>0.992629</td>\n",
       "      <td>-0.632255</td>\n",
       "      <td>0.392847</td>\n",
       "    </tr>\n",
       "    <tr>\n",
       "      <th>Apparent Temperature (C)</th>\n",
       "      <td>0.992629</td>\n",
       "      <td>1.000000</td>\n",
       "      <td>-0.602571</td>\n",
       "      <td>0.381718</td>\n",
       "    </tr>\n",
       "    <tr>\n",
       "      <th>Humidity</th>\n",
       "      <td>-0.632255</td>\n",
       "      <td>-0.602571</td>\n",
       "      <td>1.000000</td>\n",
       "      <td>-0.369173</td>\n",
       "    </tr>\n",
       "    <tr>\n",
       "      <th>Visibility (km)</th>\n",
       "      <td>0.392847</td>\n",
       "      <td>0.381718</td>\n",
       "      <td>-0.369173</td>\n",
       "      <td>1.000000</td>\n",
       "    </tr>\n",
       "  </tbody>\n",
       "</table>\n",
       "</div>"
      ],
      "text/plain": [
       "                          Temperature (C)  Apparent Temperature (C)  Humidity  \\\n",
       "Temperature (C)                  1.000000                  0.992629 -0.632255   \n",
       "Apparent Temperature (C)         0.992629                  1.000000 -0.602571   \n",
       "Humidity                        -0.632255                 -0.602571  1.000000   \n",
       "Visibility (km)                  0.392847                  0.381718 -0.369173   \n",
       "\n",
       "                          Visibility (km)  \n",
       "Temperature (C)                  0.392847  \n",
       "Apparent Temperature (C)         0.381718  \n",
       "Humidity                        -0.369173  \n",
       "Visibility (km)                  1.000000  "
      ]
     },
     "execution_count": 6,
     "metadata": {},
     "output_type": "execute_result"
    }
   ],
   "source": [
    "Cor_s"
   ]
  },
  {
   "cell_type": "code",
   "execution_count": 151,
   "id": "720f6cbc",
   "metadata": {},
   "outputs": [
    {
     "name": "stdout",
     "output_type": "stream",
     "text": [
      "[0.14, 0.14, 0.14, 0.13, 0.0, 0.0, 0.0, 0.0, 0.0, 0.0, 0.0, 0.0, 0.0, 0.0, 0.0, 0.0, 0.0, 0.0, 0.0, 0.0, 0.0, 0.0, 0.0, 0.0, 0.0, 0.0, 0.12, 0.14]\n"
     ]
    }
   ],
   "source": [
    "outliers=[]\n",
    "def detect_outlier(data_1):\n",
    "    \n",
    "    threshold=3\n",
    "    mean_1 = np.mean(data_1)\n",
    "    std_1 =np.std(data_1)\n",
    "    \n",
    "    \n",
    "    for y in data_1:\n",
    "        z_score= (y - mean_1)/std_1 \n",
    "        if np.abs(z_score) > threshold:\n",
    "            outliers.append(y)\n",
    "    return outliers\n",
    "outlier_data = detect_outlier(data_set[\"Humidity\"])\n",
    "print (outlier_data)\n",
    "\n",
    "#Removing the Outliers\n",
    "data_set_clean = data_set[data_set[\"Humidity\"]>0.15]\n"
   ]
  },
  {
   "cell_type": "markdown",
   "id": "d8024be7",
   "metadata": {},
   "source": [
    "### Checking outlier for Temperature "
   ]
  },
  {
   "cell_type": "code",
   "execution_count": 8,
   "id": "9f666384",
   "metadata": {},
   "outputs": [
    {
     "name": "stdout",
     "output_type": "stream",
     "text": [
      "[0.14, 0.14, 0.14, 0.13, 0.0, 0.0, 0.0, 0.0, 0.0, 0.0, 0.0, 0.0, 0.0, 0.0, 0.0, 0.0, 0.0, 0.0, 0.0, 0.0, 0.0, 0.0, 0.0, 0.0, 0.0, 0.0, 0.12, 0.14, -17.655555555555555, -20.0, -20.0, -21.822222222222223, -20.0, -17.22222222222222, -16.91111111111111, -17.22222222222222, -17.22222222222222, -19.02777777777778, -19.444444444444443, -20.0, -19.166666666666668, -20.55555555555556, -17.77777777777778, -16.894444444444446, -17.22222222222222, -17.22222222222222, -16.87777777777778, -17.77777777777778, -20.0, -18.51111111111111, -17.77777777777778, -17.294444444444444, -17.22222222222222, -17.22222222222222, -19.77777777777778, -20.0, -19.444444444444443, -20.05, -21.11111111111111, -20.55555555555556, -20.27777777777778, -21.11111111111111, -21.11111111111111, -20.78333333333333, -18.88888888888889, -18.405555555555555, -17.77777777777778]\n"
     ]
    }
   ],
   "source": [
    "outlier_data = detect_outlier(data_set[\"Temperature (C)\"])\n",
    "print (outlier_data)"
   ]
  },
  {
   "cell_type": "markdown",
   "id": "1949f872",
   "metadata": {},
   "source": [
    "**Now we can see that there are lot of values beyond 3 standard deviation. So we can say there is outlier. It basically means there are fat tails**"
   ]
  },
  {
   "cell_type": "markdown",
   "id": "5c0a6e85",
   "metadata": {},
   "source": [
    "### Checking outlier for Apparent Temperature"
   ]
  },
  {
   "cell_type": "code",
   "execution_count": 9,
   "id": "87842e2c",
   "metadata": {},
   "outputs": [
    {
     "name": "stdout",
     "output_type": "stream",
     "text": [
      "[0.14, 0.14, 0.14, 0.13, 0.0, 0.0, 0.0, 0.0, 0.0, 0.0, 0.0, 0.0, 0.0, 0.0, 0.0, 0.0, 0.0, 0.0, 0.0, 0.0, 0.0, 0.0, 0.0, 0.0, 0.0, 0.0, 0.12, 0.14, -17.655555555555555, -20.0, -20.0, -21.822222222222223, -20.0, -17.22222222222222, -16.91111111111111, -17.22222222222222, -17.22222222222222, -19.02777777777778, -19.444444444444443, -20.0, -19.166666666666668, -20.55555555555556, -17.77777777777778, -16.894444444444446, -17.22222222222222, -17.22222222222222, -16.87777777777778, -17.77777777777778, -20.0, -18.51111111111111, -17.77777777777778, -17.294444444444444, -17.22222222222222, -17.22222222222222, -19.77777777777778, -20.0, -19.444444444444443, -20.05, -21.11111111111111, -20.55555555555556, -20.27777777777778, -21.11111111111111, -21.11111111111111, -20.78333333333333, -18.88888888888889, -18.405555555555555, -17.77777777777778, -21.71666666666667, -21.255555555555556, -21.55555555555556, -21.75, -21.922222222222224, -21.399999999999995, -22.09444444444444, -21.77777777777778, -21.977777777777774, -23.7, -23.7, -22.73888888888889, -23.13888888888889, -23.866666666666667, -23.266666666666666, -24.23333333333333, -21.81111111111111, -21.41111111111111, -26.227777777777774, -21.822222222222223, -23.716666666666665, -24.63888888888889, -27.716666666666665, -24.166666666666668, -25.92222222222222, -23.7, -21.66111111111111, -23.02777777777778, -21.9, -22.73888888888889, -22.416666666666668, -23.616666666666664, -23.87222222222222, -24.366666666666667, -21.48333333333333, -22.96666666666667, -22.072222222222223, -25.200000000000003, -25.072222222222223, -21.66111111111111]\n"
     ]
    }
   ],
   "source": [
    "outlier_data = detect_outlier(data_set[\"Apparent Temperature (C)\"])\n",
    "print (outlier_data)"
   ]
  },
  {
   "cell_type": "markdown",
   "id": "bf0615b4",
   "metadata": {},
   "source": [
    "**Here also we have lot of points so we can say that we cant rule out values beyond 3 standard deviation**"
   ]
  },
  {
   "cell_type": "markdown",
   "id": "48b6c917",
   "metadata": {},
   "source": [
    "# Data Visualization"
   ]
  },
  {
   "cell_type": "markdown",
   "id": "49343834",
   "metadata": {},
   "source": [
    "Now lets have some visual plots of the data"
   ]
  },
  {
   "cell_type": "code",
   "execution_count": 16,
   "id": "f9b5deb4",
   "metadata": {},
   "outputs": [
    {
     "data": {
      "text/plain": [
       "<AxesSubplot:xlabel='Temperature (C)', ylabel='Humidity'>"
      ]
     },
     "execution_count": 16,
     "metadata": {},
     "output_type": "execute_result"
    },
    {
     "data": {
      "image/png": "[encoded data removed]",
      "text/plain": [
       "<Figure size 432x288 with 1 Axes>"
      ]
     },
     "metadata": {
      "needs_background": "light"
     },
     "output_type": "display_data"
    }
   ],
   "source": [
    "# plotting a scatter plot between temp and humdity\n",
    "sns.regplot(x=data_set[\"Temperature (C)\"], y=data_set[\"Humidity\"])"
   ]
  },
  {
   "cell_type": "markdown",
   "id": "725eec14",
   "metadata": {},
   "source": [
    "So we can see there is negative corelation between temperature and humidity. But that corelation doesnt seem to be very strong"
   ]
  },
  {
   "cell_type": "code",
   "execution_count": 29,
   "id": "a8f4e82d",
   "metadata": {},
   "outputs": [
    {
     "data": {
      "text/plain": [
       "<AxesSubplot:xlabel='Temperature (C)', ylabel='Apparent Temperature (C)'>"
      ]
     },
     "execution_count": 29,
     "metadata": {},
     "output_type": "execute_result"
    },
    {
     "data": {
      "image/png": "[encoded data removed]",
      "text/plain": [
       "<Figure size 432x288 with 1 Axes>"
      ]
     },
     "metadata": {
      "needs_background": "light"
     },
     "output_type": "display_data"
    }
   ],
   "source": [
    "sns.regplot(x=data_set[\"Temperature (C)\"], y=data_set[\"Apparent Temperature (C)\"])"
   ]
  },
  {
   "cell_type": "markdown",
   "id": "c2bd300f",
   "metadata": {},
   "source": [
    "Now temperature and apparent temperature has quite a strong positive corelation"
   ]
  },
  {
   "cell_type": "code",
   "execution_count": 30,
   "id": "d9f1eac0",
   "metadata": {},
   "outputs": [
    {
     "data": {
      "text/plain": [
       "<AxesSubplot:xlabel='Temperature (C)', ylabel='Visibility (km)'>"
      ]
     },
     "execution_count": 30,
     "metadata": {},
     "output_type": "execute_result"
    },
    {
     "data": {
      "image/png": "[encoded data removed]",
      "text/plain": [
       "<Figure size 432x288 with 1 Axes>"
      ]
     },
     "metadata": {
      "needs_background": "light"
     },
     "output_type": "display_data"
    }
   ],
   "source": [
    "sns.regplot(x=data_set[\"Temperature (C)\"], y=data_set[\"Visibility (km)\"])"
   ]
  },
  {
   "cell_type": "markdown",
   "id": "ebf6e963",
   "metadata": {},
   "source": [
    "So it seems that temperature and visibility dont have any kind of corelation, but we saw from corelation table that they are actually related"
   ]
  },
  {
   "cell_type": "markdown",
   "id": "22c8ec88",
   "metadata": {},
   "source": [
    "# Creating the Independendent and Dependent Data Sets"
   ]
  },
  {
   "cell_type": "code",
   "execution_count": 35,
   "id": "bbc5b600",
   "metadata": {},
   "outputs": [],
   "source": [
    "y= data_set_clean.iloc[:,[2]] # Dependent Data\n",
    "X= data_set_clean.iloc[:,[1,3,4]] #Feature Data\n",
    "\n",
    "X1= pd.get_dummies(X, columns =['Precip Type'])"
   ]
  },
  {
   "cell_type": "markdown",
   "id": "6aeae167",
   "metadata": {},
   "source": [
    "So we divided the data in dependent and independent data. However we did not that the original data, we took the clean data set where we have filtered the outliers. \n",
    "\n",
    "After dividing the data we also converted the categorical variable 'Precip Type' into dummy variables"
   ]
  },
  {
   "cell_type": "code",
   "execution_count": 36,
   "id": "79409d93",
   "metadata": {},
   "outputs": [
    {
     "data": {
      "text/html": [
       "<div>\n",
       "<style scoped>\n",
       "    .dataframe tbody tr th:only-of-type {\n",
       "        vertical-align: middle;\n",
       "    }\n",
       "\n",
       "    .dataframe tbody tr th {\n",
       "        vertical-align: top;\n",
       "    }\n",
       "\n",
       "    .dataframe thead th {\n",
       "        text-align: right;\n",
       "    }\n",
       "</style>\n",
       "<table border=\"1\" class=\"dataframe\">\n",
       "  <thead>\n",
       "    <tr style=\"text-align: right;\">\n",
       "      <th></th>\n",
       "      <th>Apparent Temperature (C)</th>\n",
       "      <th>Humidity</th>\n",
       "      <th>Precip Type_rain</th>\n",
       "      <th>Precip Type_snow</th>\n",
       "    </tr>\n",
       "  </thead>\n",
       "  <tbody>\n",
       "    <tr>\n",
       "      <th>0</th>\n",
       "      <td>7.388889</td>\n",
       "      <td>0.89</td>\n",
       "      <td>1</td>\n",
       "      <td>0</td>\n",
       "    </tr>\n",
       "    <tr>\n",
       "      <th>1</th>\n",
       "      <td>7.227778</td>\n",
       "      <td>0.86</td>\n",
       "      <td>1</td>\n",
       "      <td>0</td>\n",
       "    </tr>\n",
       "    <tr>\n",
       "      <th>2</th>\n",
       "      <td>9.377778</td>\n",
       "      <td>0.89</td>\n",
       "      <td>1</td>\n",
       "      <td>0</td>\n",
       "    </tr>\n",
       "    <tr>\n",
       "      <th>3</th>\n",
       "      <td>5.944444</td>\n",
       "      <td>0.83</td>\n",
       "      <td>1</td>\n",
       "      <td>0</td>\n",
       "    </tr>\n",
       "    <tr>\n",
       "      <th>4</th>\n",
       "      <td>6.977778</td>\n",
       "      <td>0.83</td>\n",
       "      <td>1</td>\n",
       "      <td>0</td>\n",
       "    </tr>\n",
       "  </tbody>\n",
       "</table>\n",
       "</div>"
      ],
      "text/plain": [
       "   Apparent Temperature (C)  Humidity  Precip Type_rain  Precip Type_snow\n",
       "0                  7.388889      0.89                 1                 0\n",
       "1                  7.227778      0.86                 1                 0\n",
       "2                  9.377778      0.89                 1                 0\n",
       "3                  5.944444      0.83                 1                 0\n",
       "4                  6.977778      0.83                 1                 0"
      ]
     },
     "execution_count": 36,
     "metadata": {},
     "output_type": "execute_result"
    }
   ],
   "source": [
    "X1.head()"
   ]
  },
  {
   "cell_type": "markdown",
   "id": "a49d6a28",
   "metadata": {},
   "source": [
    "Now 'Precip Type' is converted into two dummy variables one is rain and other one is snow"
   ]
  },
  {
   "cell_type": "markdown",
   "id": "aece0068",
   "metadata": {},
   "source": [
    "# Splitting the dataset into the Training set and Test set"
   ]
  },
  {
   "cell_type": "code",
   "execution_count": 38,
   "id": "ba6a3dff",
   "metadata": {},
   "outputs": [],
   "source": [
    "from sklearn.model_selection import train_test_split\n",
    "X_train, X_test, y_train, y_test = train_test_split(X1, y, test_size = 0.2, random_state = 0)"
   ]
  },
  {
   "cell_type": "markdown",
   "id": "8e03cb86",
   "metadata": {},
   "source": [
    "Here we have split the data into training and test. Where Y data set which contains temperature is taken as dependent variable while X1, which is data with dummy variables is taken as independent variables"
   ]
  },
  {
   "cell_type": "markdown",
   "id": "31653a3d",
   "metadata": {},
   "source": [
    "# Fitting multiple linear regression to training set "
   ]
  },
  {
   "cell_type": "markdown",
   "id": "e15100b7",
   "metadata": {},
   "source": [
    "## Using Sklearn"
   ]
  },
  {
   "cell_type": "code",
   "execution_count": 39,
   "id": "444484f1",
   "metadata": {},
   "outputs": [
    {
     "data": {
      "text/plain": [
       "array([[ 0.8505005 , -2.7423763 ,  0.3867599 ,  0.04914733]])"
      ]
     },
     "execution_count": 39,
     "metadata": {},
     "output_type": "execute_result"
    }
   ],
   "source": [
    "from sklearn.linear_model import LinearRegression\n",
    "regressor = LinearRegression()\n",
    "regressor.fit(X_train, y_train)\n",
    "\n",
    "regressor.coef_"
   ]
  },
  {
   "cell_type": "markdown",
   "id": "aad1f599",
   "metadata": {},
   "source": [
    "**So we have used machine learning model for regression on training data set. However the point is that we cannot get diagnostic tests of them. We can only get co-effecients. Hence for regression we prefer stats model. As there we can get model diagnostic**"
   ]
  },
  {
   "cell_type": "code",
   "execution_count": 40,
   "id": "1831b2dc",
   "metadata": {},
   "outputs": [
    {
     "data": {
      "text/plain": [
       "array([4.36937561])"
      ]
     },
     "execution_count": 40,
     "metadata": {},
     "output_type": "execute_result"
    }
   ],
   "source": [
    "regressor.intercept_"
   ]
  },
  {
   "cell_type": "markdown",
   "id": "4e4765bc",
   "metadata": {},
   "source": [
    "# Predicting the Test set results"
   ]
  },
  {
   "cell_type": "code",
   "execution_count": 41,
   "id": "742afe54",
   "metadata": {},
   "outputs": [
    {
     "data": {
      "text/plain": [
       "0.987306401824711"
      ]
     },
     "execution_count": 41,
     "metadata": {},
     "output_type": "execute_result"
    }
   ],
   "source": [
    "y_pred = regressor.predict(X_test)\n",
    "y_pred_data=pd.DataFrame(y_pred)\n",
    "\n",
    "regressor.score(X_train,y_train)"
   ]
  },
  {
   "cell_type": "code",
   "execution_count": 42,
   "id": "3389f1f3",
   "metadata": {},
   "outputs": [
    {
     "data": {
      "text/html": [
       "<div>\n",
       "<style scoped>\n",
       "    .dataframe tbody tr th:only-of-type {\n",
       "        vertical-align: middle;\n",
       "    }\n",
       "\n",
       "    .dataframe tbody tr th {\n",
       "        vertical-align: top;\n",
       "    }\n",
       "\n",
       "    .dataframe thead th {\n",
       "        text-align: right;\n",
       "    }\n",
       "</style>\n",
       "<table border=\"1\" class=\"dataframe\">\n",
       "  <thead>\n",
       "    <tr style=\"text-align: right;\">\n",
       "      <th></th>\n",
       "      <th>0</th>\n",
       "    </tr>\n",
       "  </thead>\n",
       "  <tbody>\n",
       "    <tr>\n",
       "      <th>0</th>\n",
       "      <td>14.944333</td>\n",
       "    </tr>\n",
       "    <tr>\n",
       "      <th>1</th>\n",
       "      <td>3.579130</td>\n",
       "    </tr>\n",
       "    <tr>\n",
       "      <th>2</th>\n",
       "      <td>25.655832</td>\n",
       "    </tr>\n",
       "    <tr>\n",
       "      <th>3</th>\n",
       "      <td>30.010525</td>\n",
       "    </tr>\n",
       "    <tr>\n",
       "      <th>4</th>\n",
       "      <td>25.155263</td>\n",
       "    </tr>\n",
       "    <tr>\n",
       "      <th>...</th>\n",
       "      <td>...</td>\n",
       "    </tr>\n",
       "    <tr>\n",
       "      <th>19278</th>\n",
       "      <td>29.300016</td>\n",
       "    </tr>\n",
       "    <tr>\n",
       "      <th>19279</th>\n",
       "      <td>6.374479</td>\n",
       "    </tr>\n",
       "    <tr>\n",
       "      <th>19280</th>\n",
       "      <td>23.961960</td>\n",
       "    </tr>\n",
       "    <tr>\n",
       "      <th>19281</th>\n",
       "      <td>9.790105</td>\n",
       "    </tr>\n",
       "    <tr>\n",
       "      <th>19282</th>\n",
       "      <td>7.038477</td>\n",
       "    </tr>\n",
       "  </tbody>\n",
       "</table>\n",
       "<p>19283 rows × 1 columns</p>\n",
       "</div>"
      ],
      "text/plain": [
       "               0\n",
       "0      14.944333\n",
       "1       3.579130\n",
       "2      25.655832\n",
       "3      30.010525\n",
       "4      25.155263\n",
       "...          ...\n",
       "19278  29.300016\n",
       "19279   6.374479\n",
       "19280  23.961960\n",
       "19281   9.790105\n",
       "19282   7.038477\n",
       "\n",
       "[19283 rows x 1 columns]"
      ]
     },
     "execution_count": 42,
     "metadata": {},
     "output_type": "execute_result"
    }
   ],
   "source": [
    "y_pred_data"
   ]
  },
  {
   "cell_type": "code",
   "execution_count": 73,
   "id": "72dc80ce",
   "metadata": {},
   "outputs": [
    {
     "data": {
      "text/plain": [
       "0.9870720140762889"
      ]
     },
     "execution_count": 73,
     "metadata": {},
     "output_type": "execute_result"
    }
   ],
   "source": [
    "regressor.score(X_test,y_test)"
   ]
  },
  {
   "cell_type": "markdown",
   "id": "d756d71d",
   "metadata": {},
   "source": [
    "**Now we got the R-square of test data also. So we can see that R-square of both is quite high which is good thing. Hence we can say that this is good model**.\n",
    "\n",
    "**Now we got the Rsquare. Also we have seen the co-effecients and intercept of our regession model using Sklearn. However the problem is we cannot know the significance level of co-effecients using Sklearn model. We have no idea what is the p-value of these models. Thats because this is not stats based model. This is machine learning based modek. We can just know the R-square**"
   ]
  },
  {
   "cell_type": "code",
   "execution_count": 43,
   "id": "1c348395",
   "metadata": {},
   "outputs": [
    {
     "name": "stdout",
     "output_type": "stream",
     "text": [
      "1.0828963217076644\n"
     ]
    }
   ],
   "source": [
    "from sklearn import metrics\n",
    "import math\n",
    "print(math.sqrt(metrics.mean_squared_error(y_test, y_pred)))"
   ]
  },
  {
   "cell_type": "markdown",
   "id": "3c130818",
   "metadata": {},
   "source": [
    "**So thats the RMSE of this data**"
   ]
  },
  {
   "cell_type": "markdown",
   "id": "0991ce71",
   "metadata": {},
   "source": [
    "## Using Stats Model for Regression"
   ]
  },
  {
   "cell_type": "code",
   "execution_count": 44,
   "id": "6e15fa9b",
   "metadata": {},
   "outputs": [],
   "source": [
    "X_train=sm.add_constant(X_train)\n",
    "X_test=sm.add_constant(X_test)"
   ]
  },
  {
   "cell_type": "markdown",
   "id": "e87853ca",
   "metadata": {},
   "source": [
    "When we use stats model we need to add constant term also that will give us intercept."
   ]
  },
  {
   "cell_type": "code",
   "execution_count": 45,
   "id": "cb27c41e",
   "metadata": {},
   "outputs": [],
   "source": [
    "X_train_d=pd.DataFrame(X_train)\n",
    "X_test_d =pd.DataFrame(X_test)"
   ]
  },
  {
   "cell_type": "code",
   "execution_count": 46,
   "id": "3781557b",
   "metadata": {},
   "outputs": [
    {
     "data": {
      "text/html": [
       "<table class=\"simpletable\">\n",
       "<caption>OLS Regression Results</caption>\n",
       "<tr>\n",
       "  <th>Dep. Variable:</th>     <td>Temperature (C)</td> <th>  R-squared:         </th>  <td>   0.987</td>  \n",
       "</tr>\n",
       "<tr>\n",
       "  <th>Model:</th>                   <td>OLS</td>       <th>  Adj. R-squared:    </th>  <td>   0.987</td>  \n",
       "</tr>\n",
       "<tr>\n",
       "  <th>Method:</th>             <td>Least Squares</td>  <th>  F-statistic:       </th>  <td>1.500e+06</td> \n",
       "</tr>\n",
       "<tr>\n",
       "  <th>Date:</th>             <td>Tue, 19 Jul 2022</td> <th>  Prob (F-statistic):</th>   <td>  0.00</td>   \n",
       "</tr>\n",
       "<tr>\n",
       "  <th>Time:</th>                 <td>23:32:59</td>     <th>  Log-Likelihood:    </th> <td>-1.1506e+05</td>\n",
       "</tr>\n",
       "<tr>\n",
       "  <th>No. Observations:</th>      <td> 77132</td>      <th>  AIC:               </th>  <td>2.301e+05</td> \n",
       "</tr>\n",
       "<tr>\n",
       "  <th>Df Residuals:</th>          <td> 77127</td>      <th>  BIC:               </th>  <td>2.302e+05</td> \n",
       "</tr>\n",
       "<tr>\n",
       "  <th>Df Model:</th>              <td>     4</td>      <th>                     </th>      <td> </td>     \n",
       "</tr>\n",
       "<tr>\n",
       "  <th>Covariance Type:</th>      <td>nonrobust</td>    <th>                     </th>      <td> </td>     \n",
       "</tr>\n",
       "</table>\n",
       "<table class=\"simpletable\">\n",
       "<tr>\n",
       "              <td></td>                <th>coef</th>     <th>std err</th>      <th>t</th>      <th>P>|t|</th>  <th>[0.025</th>    <th>0.975]</th>  \n",
       "</tr>\n",
       "<tr>\n",
       "  <th>const</th>                    <td>    4.3694</td> <td>    0.058</td> <td>   75.944</td> <td> 0.000</td> <td>    4.257</td> <td>    4.482</td>\n",
       "</tr>\n",
       "<tr>\n",
       "  <th>Apparent Temperature (C)</th> <td>    0.8505</td> <td>    0.001</td> <td> 1562.390</td> <td> 0.000</td> <td>    0.849</td> <td>    0.852</td>\n",
       "</tr>\n",
       "<tr>\n",
       "  <th>Humidity</th>                 <td>   -2.7424</td> <td>    0.025</td> <td> -108.364</td> <td> 0.000</td> <td>   -2.792</td> <td>   -2.693</td>\n",
       "</tr>\n",
       "<tr>\n",
       "  <th>Precip Type_rain</th>         <td>    0.3868</td> <td>    0.053</td> <td>    7.265</td> <td> 0.000</td> <td>    0.282</td> <td>    0.491</td>\n",
       "</tr>\n",
       "<tr>\n",
       "  <th>Precip Type_snow</th>         <td>    0.0491</td> <td>    0.055</td> <td>    0.897</td> <td> 0.370</td> <td>   -0.058</td> <td>    0.157</td>\n",
       "</tr>\n",
       "</table>\n",
       "<table class=\"simpletable\">\n",
       "<tr>\n",
       "  <th>Omnibus:</th>       <td>1332.060</td> <th>  Durbin-Watson:     </th> <td>   2.013</td>\n",
       "</tr>\n",
       "<tr>\n",
       "  <th>Prob(Omnibus):</th>  <td> 0.000</td>  <th>  Jarque-Bera (JB):  </th> <td>2439.022</td>\n",
       "</tr>\n",
       "<tr>\n",
       "  <th>Skew:</th>           <td>-0.115</td>  <th>  Prob(JB):          </th> <td>    0.00</td>\n",
       "</tr>\n",
       "<tr>\n",
       "  <th>Kurtosis:</th>       <td> 3.840</td>  <th>  Cond. No.          </th> <td>    369.</td>\n",
       "</tr>\n",
       "</table><br/><br/>Notes:<br/>[1] Standard Errors assume that the covariance matrix of the errors is correctly specified."
      ],
      "text/plain": [
       "<class 'statsmodels.iolib.summary.Summary'>\n",
       "\"\"\"\n",
       "                            OLS Regression Results                            \n",
       "==============================================================================\n",
       "Dep. Variable:        Temperature (C)   R-squared:                       0.987\n",
       "Model:                            OLS   Adj. R-squared:                  0.987\n",
       "Method:                 Least Squares   F-statistic:                 1.500e+06\n",
       "Date:                Tue, 19 Jul 2022   Prob (F-statistic):               0.00\n",
       "Time:                        23:32:59   Log-Likelihood:            -1.1506e+05\n",
       "No. Observations:               77132   AIC:                         2.301e+05\n",
       "Df Residuals:                   77127   BIC:                         2.302e+05\n",
       "Df Model:                           4                                         \n",
       "Covariance Type:            nonrobust                                         \n",
       "============================================================================================\n",
       "                               coef    std err          t      P>|t|      [0.025      0.975]\n",
       "--------------------------------------------------------------------------------------------\n",
       "const                        4.3694      0.058     75.944      0.000       4.257       4.482\n",
       "Apparent Temperature (C)     0.8505      0.001   1562.390      0.000       0.849       0.852\n",
       "Humidity                    -2.7424      0.025   -108.364      0.000      -2.792      -2.693\n",
       "Precip Type_rain             0.3868      0.053      7.265      0.000       0.282       0.491\n",
       "Precip Type_snow             0.0491      0.055      0.897      0.370      -0.058       0.157\n",
       "==============================================================================\n",
       "Omnibus:                     1332.060   Durbin-Watson:                   2.013\n",
       "Prob(Omnibus):                  0.000   Jarque-Bera (JB):             2439.022\n",
       "Skew:                          -0.115   Prob(JB):                         0.00\n",
       "Kurtosis:                       3.840   Cond. No.                         369.\n",
       "==============================================================================\n",
       "\n",
       "Notes:\n",
       "[1] Standard Errors assume that the covariance matrix of the errors is correctly specified.\n",
       "\"\"\""
      ]
     },
     "execution_count": 46,
     "metadata": {},
     "output_type": "execute_result"
    }
   ],
   "source": [
    "model_train = sm.OLS(y_train,X_train_d).fit()\n",
    "model_train.summary()"
   ]
  },
  {
   "cell_type": "code",
   "execution_count": 81,
   "id": "0d5d2b90",
   "metadata": {},
   "outputs": [],
   "source": [
    "Model_1train_Coef=pd.concat([pd.DataFrame(model_train.params),pd.DataFrame(model_train.pvalues)], axis = 1)\n",
    "Model_1train_Coef.columns=['Coef', 'P-value']"
   ]
  },
  {
   "cell_type": "markdown",
   "id": "3f96fee6",
   "metadata": {},
   "source": [
    "**Here we have got the results of our model. We can see that all the variables except \"Precip Type_snow\" is in-signifiacnt. So we need to remove it. Thats happening due to dummy variable trap, which will get further justified after we do VIF**"
   ]
  },
  {
   "cell_type": "code",
   "execution_count": 47,
   "id": "173a7712",
   "metadata": {},
   "outputs": [
    {
     "data": {
      "text/html": [
       "<table class=\"simpletable\">\n",
       "<caption>OLS Regression Results</caption>\n",
       "<tr>\n",
       "  <th>Dep. Variable:</th>     <td>Temperature (C)</td> <th>  R-squared:         </th> <td>   0.987</td> \n",
       "</tr>\n",
       "<tr>\n",
       "  <th>Model:</th>                   <td>OLS</td>       <th>  Adj. R-squared:    </th> <td>   0.987</td> \n",
       "</tr>\n",
       "<tr>\n",
       "  <th>Method:</th>             <td>Least Squares</td>  <th>  F-statistic:       </th> <td>3.680e+05</td>\n",
       "</tr>\n",
       "<tr>\n",
       "  <th>Date:</th>             <td>Tue, 19 Jul 2022</td> <th>  Prob (F-statistic):</th>  <td>  0.00</td>  \n",
       "</tr>\n",
       "<tr>\n",
       "  <th>Time:</th>                 <td>23:45:09</td>     <th>  Log-Likelihood:    </th> <td> -28895.</td> \n",
       "</tr>\n",
       "<tr>\n",
       "  <th>No. Observations:</th>      <td> 19283</td>      <th>  AIC:               </th> <td>5.780e+04</td>\n",
       "</tr>\n",
       "<tr>\n",
       "  <th>Df Residuals:</th>          <td> 19278</td>      <th>  BIC:               </th> <td>5.784e+04</td>\n",
       "</tr>\n",
       "<tr>\n",
       "  <th>Df Model:</th>              <td>     4</td>      <th>                     </th>     <td> </td>    \n",
       "</tr>\n",
       "<tr>\n",
       "  <th>Covariance Type:</th>      <td>nonrobust</td>    <th>                     </th>     <td> </td>    \n",
       "</tr>\n",
       "</table>\n",
       "<table class=\"simpletable\">\n",
       "<tr>\n",
       "              <td></td>                <th>coef</th>     <th>std err</th>      <th>t</th>      <th>P>|t|</th>  <th>[0.025</th>    <th>0.975]</th>  \n",
       "</tr>\n",
       "<tr>\n",
       "  <th>const</th>                    <td>    4.4650</td> <td>    0.114</td> <td>   38.996</td> <td> 0.000</td> <td>    4.241</td> <td>    4.689</td>\n",
       "</tr>\n",
       "<tr>\n",
       "  <th>Apparent Temperature (C)</th> <td>    0.8493</td> <td>    0.001</td> <td>  775.923</td> <td> 0.000</td> <td>    0.847</td> <td>    0.851</td>\n",
       "</tr>\n",
       "<tr>\n",
       "  <th>Humidity</th>                 <td>   -2.7231</td> <td>    0.051</td> <td>  -53.413</td> <td> 0.000</td> <td>   -2.823</td> <td>   -2.623</td>\n",
       "</tr>\n",
       "<tr>\n",
       "  <th>Precip Type_rain</th>         <td>    0.2909</td> <td>    0.106</td> <td>    2.756</td> <td> 0.006</td> <td>    0.084</td> <td>    0.498</td>\n",
       "</tr>\n",
       "<tr>\n",
       "  <th>Precip Type_snow</th>         <td>   -0.0725</td> <td>    0.109</td> <td>   -0.668</td> <td> 0.504</td> <td>   -0.286</td> <td>    0.140</td>\n",
       "</tr>\n",
       "</table>\n",
       "<table class=\"simpletable\">\n",
       "<tr>\n",
       "  <th>Omnibus:</th>       <td>235.033</td> <th>  Durbin-Watson:     </th> <td>   1.986</td>\n",
       "</tr>\n",
       "<tr>\n",
       "  <th>Prob(Omnibus):</th> <td> 0.000</td>  <th>  Jarque-Bera (JB):  </th> <td> 384.280</td>\n",
       "</tr>\n",
       "<tr>\n",
       "  <th>Skew:</th>          <td>-0.096</td>  <th>  Prob(JB):          </th> <td>3.59e-84</td>\n",
       "</tr>\n",
       "<tr>\n",
       "  <th>Kurtosis:</th>      <td> 3.664</td>  <th>  Cond. No.          </th> <td>    362.</td>\n",
       "</tr>\n",
       "</table><br/><br/>Notes:<br/>[1] Standard Errors assume that the covariance matrix of the errors is correctly specified."
      ],
      "text/plain": [
       "<class 'statsmodels.iolib.summary.Summary'>\n",
       "\"\"\"\n",
       "                            OLS Regression Results                            \n",
       "==============================================================================\n",
       "Dep. Variable:        Temperature (C)   R-squared:                       0.987\n",
       "Model:                            OLS   Adj. R-squared:                  0.987\n",
       "Method:                 Least Squares   F-statistic:                 3.680e+05\n",
       "Date:                Tue, 19 Jul 2022   Prob (F-statistic):               0.00\n",
       "Time:                        23:45:09   Log-Likelihood:                -28895.\n",
       "No. Observations:               19283   AIC:                         5.780e+04\n",
       "Df Residuals:                   19278   BIC:                         5.784e+04\n",
       "Df Model:                           4                                         \n",
       "Covariance Type:            nonrobust                                         \n",
       "============================================================================================\n",
       "                               coef    std err          t      P>|t|      [0.025      0.975]\n",
       "--------------------------------------------------------------------------------------------\n",
       "const                        4.4650      0.114     38.996      0.000       4.241       4.689\n",
       "Apparent Temperature (C)     0.8493      0.001    775.923      0.000       0.847       0.851\n",
       "Humidity                    -2.7231      0.051    -53.413      0.000      -2.823      -2.623\n",
       "Precip Type_rain             0.2909      0.106      2.756      0.006       0.084       0.498\n",
       "Precip Type_snow            -0.0725      0.109     -0.668      0.504      -0.286       0.140\n",
       "==============================================================================\n",
       "Omnibus:                      235.033   Durbin-Watson:                   1.986\n",
       "Prob(Omnibus):                  0.000   Jarque-Bera (JB):              384.280\n",
       "Skew:                          -0.096   Prob(JB):                     3.59e-84\n",
       "Kurtosis:                       3.664   Cond. No.                         362.\n",
       "==============================================================================\n",
       "\n",
       "Notes:\n",
       "[1] Standard Errors assume that the covariance matrix of the errors is correctly specified.\n",
       "\"\"\""
      ]
     },
     "execution_count": 47,
     "metadata": {},
     "output_type": "execute_result"
    }
   ],
   "source": [
    "model_test = sm.OLS(y_test,X_test_d).fit()\n",
    "\n",
    "model_test.summary()"
   ]
  },
  {
   "cell_type": "markdown",
   "id": "46437b7e",
   "metadata": {},
   "source": [
    "**So using both test and train data we can see that adjusted R-square is very high, also we can see that precip Type_snow doesnt have significant relation**"
   ]
  },
  {
   "cell_type": "markdown",
   "id": "97ccb227",
   "metadata": {},
   "source": [
    "### Checking for VIF"
   ]
  },
  {
   "cell_type": "code",
   "execution_count": 83,
   "id": "946dc2ae",
   "metadata": {},
   "outputs": [
    {
     "data": {
      "text/html": [
       "<div>\n",
       "<style scoped>\n",
       "    .dataframe tbody tr th:only-of-type {\n",
       "        vertical-align: middle;\n",
       "    }\n",
       "\n",
       "    .dataframe tbody tr th {\n",
       "        vertical-align: top;\n",
       "    }\n",
       "\n",
       "    .dataframe thead th {\n",
       "        text-align: right;\n",
       "    }\n",
       "</style>\n",
       "<table border=\"1\" class=\"dataframe\">\n",
       "  <thead>\n",
       "    <tr style=\"text-align: right;\">\n",
       "      <th></th>\n",
       "      <th>VIF Factor</th>\n",
       "      <th>features</th>\n",
       "    </tr>\n",
       "  </thead>\n",
       "  <tbody>\n",
       "    <tr>\n",
       "      <th>0</th>\n",
       "      <td>220.7</td>\n",
       "      <td>const</td>\n",
       "    </tr>\n",
       "    <tr>\n",
       "      <th>1</th>\n",
       "      <td>2.3</td>\n",
       "      <td>Apparent Temperature (C)</td>\n",
       "    </tr>\n",
       "    <tr>\n",
       "      <th>2</th>\n",
       "      <td>1.6</td>\n",
       "      <td>Humidity</td>\n",
       "    </tr>\n",
       "    <tr>\n",
       "      <th>3</th>\n",
       "      <td>19.4</td>\n",
       "      <td>Precip Type_rain</td>\n",
       "    </tr>\n",
       "    <tr>\n",
       "      <th>4</th>\n",
       "      <td>19.7</td>\n",
       "      <td>Precip Type_snow</td>\n",
       "    </tr>\n",
       "  </tbody>\n",
       "</table>\n",
       "</div>"
      ],
      "text/plain": [
       "   VIF Factor                  features\n",
       "0       220.7                     const\n",
       "1         2.3  Apparent Temperature (C)\n",
       "2         1.6                  Humidity\n",
       "3        19.4          Precip Type_rain\n",
       "4        19.7          Precip Type_snow"
      ]
     },
     "execution_count": 83,
     "metadata": {},
     "output_type": "execute_result"
    }
   ],
   "source": [
    "from statsmodels.stats.outliers_influence import variance_inflation_factor\n",
    "vif = pd.DataFrame()\n",
    "vif[\"VIF Factor\"] =[variance_inflation_factor(X_train_d.values, j) for j in range(X_train_d.shape[1])]\n",
    "vif[\"features\"] = X_train_d.columns\n",
    "vif.round(1)\n"
   ]
  },
  {
   "cell_type": "markdown",
   "id": "53eda73b",
   "metadata": {},
   "source": [
    "**So these dummy variables have high VIF. Hence we should remove one of the variable**"
   ]
  },
  {
   "cell_type": "code",
   "execution_count": 84,
   "id": "89e4bf84",
   "metadata": {},
   "outputs": [],
   "source": [
    "New_X_train = X_train_d.drop([\"Precip Type_snow\"],axis = 1)\n",
    "New_X_test = X_test_d.drop([\"Precip Type_snow\"],axis = 1)"
   ]
  },
  {
   "cell_type": "code",
   "execution_count": 85,
   "id": "e1933b8f",
   "metadata": {},
   "outputs": [],
   "source": [
    "New_X_train_d=pd.DataFrame(New_X_train)\n",
    "New_X_test_d =pd.DataFrame(New_X_test)"
   ]
  },
  {
   "cell_type": "code",
   "execution_count": 86,
   "id": "31eb0c7d",
   "metadata": {},
   "outputs": [
    {
     "name": "stdout",
     "output_type": "stream",
     "text": [
      "Summary for train-->\n"
     ]
    },
    {
     "data": {
      "text/html": [
       "<table class=\"simpletable\">\n",
       "<caption>OLS Regression Results</caption>\n",
       "<tr>\n",
       "  <th>Dep. Variable:</th>     <td>Temperature (C)</td> <th>  R-squared:         </th>  <td>   0.987</td>  \n",
       "</tr>\n",
       "<tr>\n",
       "  <th>Model:</th>                   <td>OLS</td>       <th>  Adj. R-squared:    </th>  <td>   0.987</td>  \n",
       "</tr>\n",
       "<tr>\n",
       "  <th>Method:</th>             <td>Least Squares</td>  <th>  F-statistic:       </th>  <td>2.000e+06</td> \n",
       "</tr>\n",
       "<tr>\n",
       "  <th>Date:</th>             <td>Wed, 20 Jul 2022</td> <th>  Prob (F-statistic):</th>   <td>  0.00</td>   \n",
       "</tr>\n",
       "<tr>\n",
       "  <th>Time:</th>                 <td>00:06:39</td>     <th>  Log-Likelihood:    </th> <td>-1.1506e+05</td>\n",
       "</tr>\n",
       "<tr>\n",
       "  <th>No. Observations:</th>      <td> 77132</td>      <th>  AIC:               </th>  <td>2.301e+05</td> \n",
       "</tr>\n",
       "<tr>\n",
       "  <th>Df Residuals:</th>          <td> 77128</td>      <th>  BIC:               </th>  <td>2.302e+05</td> \n",
       "</tr>\n",
       "<tr>\n",
       "  <th>Df Model:</th>              <td>     3</td>      <th>                     </th>      <td> </td>     \n",
       "</tr>\n",
       "<tr>\n",
       "  <th>Covariance Type:</th>      <td>nonrobust</td>    <th>                     </th>      <td> </td>     \n",
       "</tr>\n",
       "</table>\n",
       "<table class=\"simpletable\">\n",
       "<tr>\n",
       "              <td></td>                <th>coef</th>     <th>std err</th>      <th>t</th>      <th>P>|t|</th>  <th>[0.025</th>    <th>0.975]</th>  \n",
       "</tr>\n",
       "<tr>\n",
       "  <th>const</th>                    <td>    4.4166</td> <td>    0.023</td> <td>  191.299</td> <td> 0.000</td> <td>    4.371</td> <td>    4.462</td>\n",
       "</tr>\n",
       "<tr>\n",
       "  <th>Apparent Temperature (C)</th> <td>    0.8504</td> <td>    0.001</td> <td> 1574.412</td> <td> 0.000</td> <td>    0.849</td> <td>    0.851</td>\n",
       "</tr>\n",
       "<tr>\n",
       "  <th>Humidity</th>                 <td>   -2.7432</td> <td>    0.025</td> <td> -108.468</td> <td> 0.000</td> <td>   -2.793</td> <td>   -2.694</td>\n",
       "</tr>\n",
       "<tr>\n",
       "  <th>Precip Type_rain</th>         <td>    0.3409</td> <td>    0.015</td> <td>   23.146</td> <td> 0.000</td> <td>    0.312</td> <td>    0.370</td>\n",
       "</tr>\n",
       "</table>\n",
       "<table class=\"simpletable\">\n",
       "<tr>\n",
       "  <th>Omnibus:</th>       <td>1325.027</td> <th>  Durbin-Watson:     </th> <td>   2.013</td>\n",
       "</tr>\n",
       "<tr>\n",
       "  <th>Prob(Omnibus):</th>  <td> 0.000</td>  <th>  Jarque-Bera (JB):  </th> <td>2426.095</td>\n",
       "</tr>\n",
       "<tr>\n",
       "  <th>Skew:</th>           <td>-0.114</td>  <th>  Prob(JB):          </th> <td>    0.00</td>\n",
       "</tr>\n",
       "<tr>\n",
       "  <th>Kurtosis:</th>       <td> 3.839</td>  <th>  Cond. No.          </th> <td>    131.</td>\n",
       "</tr>\n",
       "</table><br/><br/>Notes:<br/>[1] Standard Errors assume that the covariance matrix of the errors is correctly specified."
      ],
      "text/plain": [
       "<class 'statsmodels.iolib.summary.Summary'>\n",
       "\"\"\"\n",
       "                            OLS Regression Results                            \n",
       "==============================================================================\n",
       "Dep. Variable:        Temperature (C)   R-squared:                       0.987\n",
       "Model:                            OLS   Adj. R-squared:                  0.987\n",
       "Method:                 Least Squares   F-statistic:                 2.000e+06\n",
       "Date:                Wed, 20 Jul 2022   Prob (F-statistic):               0.00\n",
       "Time:                        00:06:39   Log-Likelihood:            -1.1506e+05\n",
       "No. Observations:               77132   AIC:                         2.301e+05\n",
       "Df Residuals:                   77128   BIC:                         2.302e+05\n",
       "Df Model:                           3                                         \n",
       "Covariance Type:            nonrobust                                         \n",
       "============================================================================================\n",
       "                               coef    std err          t      P>|t|      [0.025      0.975]\n",
       "--------------------------------------------------------------------------------------------\n",
       "const                        4.4166      0.023    191.299      0.000       4.371       4.462\n",
       "Apparent Temperature (C)     0.8504      0.001   1574.412      0.000       0.849       0.851\n",
       "Humidity                    -2.7432      0.025   -108.468      0.000      -2.793      -2.694\n",
       "Precip Type_rain             0.3409      0.015     23.146      0.000       0.312       0.370\n",
       "==============================================================================\n",
       "Omnibus:                     1325.027   Durbin-Watson:                   2.013\n",
       "Prob(Omnibus):                  0.000   Jarque-Bera (JB):             2426.095\n",
       "Skew:                          -0.114   Prob(JB):                         0.00\n",
       "Kurtosis:                       3.839   Cond. No.                         131.\n",
       "==============================================================================\n",
       "\n",
       "Notes:\n",
       "[1] Standard Errors assume that the covariance matrix of the errors is correctly specified.\n",
       "\"\"\""
      ]
     },
     "execution_count": 86,
     "metadata": {},
     "output_type": "execute_result"
    }
   ],
   "source": [
    "model_train_new = sm.OLS(y_train,New_X_train_d).fit()\n",
    "print(\"Summary for train-->\")\n",
    "model_train_new.summary()"
   ]
  },
  {
   "cell_type": "code",
   "execution_count": 176,
   "id": "f4940e5b",
   "metadata": {},
   "outputs": [],
   "source": [
    "Coef_Model1_Corrected = pd.concat([pd.DataFrame(model_train_new.params),pd.DataFrame(model_train_new.pvalues)], axis = 1)\n",
    "Coef_Model1_Corrected.columns=['Coef', 'P-value']"
   ]
  },
  {
   "cell_type": "code",
   "execution_count": 177,
   "id": "d3f2508d",
   "metadata": {},
   "outputs": [
    {
     "data": {
      "text/html": [
       "<div>\n",
       "<style scoped>\n",
       "    .dataframe tbody tr th:only-of-type {\n",
       "        vertical-align: middle;\n",
       "    }\n",
       "\n",
       "    .dataframe tbody tr th {\n",
       "        vertical-align: top;\n",
       "    }\n",
       "\n",
       "    .dataframe thead th {\n",
       "        text-align: right;\n",
       "    }\n",
       "</style>\n",
       "<table border=\"1\" class=\"dataframe\">\n",
       "  <thead>\n",
       "    <tr style=\"text-align: right;\">\n",
       "      <th></th>\n",
       "      <th>Coef</th>\n",
       "      <th>P-value</th>\n",
       "    </tr>\n",
       "  </thead>\n",
       "  <tbody>\n",
       "    <tr>\n",
       "      <th>const</th>\n",
       "      <td>4.416646</td>\n",
       "      <td>0.000000e+00</td>\n",
       "    </tr>\n",
       "    <tr>\n",
       "      <th>Apparent Temperature (C)</th>\n",
       "      <td>0.850440</td>\n",
       "      <td>0.000000e+00</td>\n",
       "    </tr>\n",
       "    <tr>\n",
       "      <th>Humidity</th>\n",
       "      <td>-2.743202</td>\n",
       "      <td>0.000000e+00</td>\n",
       "    </tr>\n",
       "    <tr>\n",
       "      <th>Precip Type_rain</th>\n",
       "      <td>0.340871</td>\n",
       "      <td>4.073224e-118</td>\n",
       "    </tr>\n",
       "  </tbody>\n",
       "</table>\n",
       "</div>"
      ],
      "text/plain": [
       "                              Coef        P-value\n",
       "const                     4.416646   0.000000e+00\n",
       "Apparent Temperature (C)  0.850440   0.000000e+00\n",
       "Humidity                 -2.743202   0.000000e+00\n",
       "Precip Type_rain          0.340871  4.073224e-118"
      ]
     },
     "execution_count": 177,
     "metadata": {},
     "output_type": "execute_result"
    }
   ],
   "source": [
    "Coef_Model1_Corrected"
   ]
  },
  {
   "cell_type": "markdown",
   "id": "d43c710b",
   "metadata": {},
   "source": [
    "**Now we can see that all the variables are significant**"
   ]
  },
  {
   "cell_type": "code",
   "execution_count": 88,
   "id": "e3d9e2c9",
   "metadata": {},
   "outputs": [
    {
     "data": {
      "text/html": [
       "<table class=\"simpletable\">\n",
       "<caption>OLS Regression Results</caption>\n",
       "<tr>\n",
       "  <th>Dep. Variable:</th>     <td>Temperature (C)</td> <th>  R-squared:         </th> <td>   0.987</td> \n",
       "</tr>\n",
       "<tr>\n",
       "  <th>Model:</th>                   <td>OLS</td>       <th>  Adj. R-squared:    </th> <td>   0.987</td> \n",
       "</tr>\n",
       "<tr>\n",
       "  <th>Method:</th>             <td>Least Squares</td>  <th>  F-statistic:       </th> <td>4.907e+05</td>\n",
       "</tr>\n",
       "<tr>\n",
       "  <th>Date:</th>             <td>Wed, 20 Jul 2022</td> <th>  Prob (F-statistic):</th>  <td>  0.00</td>  \n",
       "</tr>\n",
       "<tr>\n",
       "  <th>Time:</th>                 <td>00:09:53</td>     <th>  Log-Likelihood:    </th> <td> -28895.</td> \n",
       "</tr>\n",
       "<tr>\n",
       "  <th>No. Observations:</th>      <td> 19283</td>      <th>  AIC:               </th> <td>5.780e+04</td>\n",
       "</tr>\n",
       "<tr>\n",
       "  <th>Df Residuals:</th>          <td> 19279</td>      <th>  BIC:               </th> <td>5.783e+04</td>\n",
       "</tr>\n",
       "<tr>\n",
       "  <th>Df Model:</th>              <td>     3</td>      <th>                     </th>     <td> </td>    \n",
       "</tr>\n",
       "<tr>\n",
       "  <th>Covariance Type:</th>      <td>nonrobust</td>    <th>                     </th>     <td> </td>    \n",
       "</tr>\n",
       "</table>\n",
       "<table class=\"simpletable\">\n",
       "<tr>\n",
       "              <td></td>                <th>coef</th>     <th>std err</th>      <th>t</th>      <th>P>|t|</th>  <th>[0.025</th>    <th>0.975]</th>  \n",
       "</tr>\n",
       "<tr>\n",
       "  <th>const</th>                    <td>    4.3952</td> <td>    0.047</td> <td>   94.096</td> <td> 0.000</td> <td>    4.304</td> <td>    4.487</td>\n",
       "</tr>\n",
       "<tr>\n",
       "  <th>Apparent Temperature (C)</th> <td>    0.8494</td> <td>    0.001</td> <td>  781.933</td> <td> 0.000</td> <td>    0.847</td> <td>    0.852</td>\n",
       "</tr>\n",
       "<tr>\n",
       "  <th>Humidity</th>                 <td>   -2.7218</td> <td>    0.051</td> <td>  -53.429</td> <td> 0.000</td> <td>   -2.822</td> <td>   -2.622</td>\n",
       "</tr>\n",
       "<tr>\n",
       "  <th>Precip Type_rain</th>         <td>    0.3586</td> <td>    0.030</td> <td>   12.134</td> <td> 0.000</td> <td>    0.301</td> <td>    0.416</td>\n",
       "</tr>\n",
       "</table>\n",
       "<table class=\"simpletable\">\n",
       "<tr>\n",
       "  <th>Omnibus:</th>       <td>237.209</td> <th>  Durbin-Watson:     </th> <td>   1.986</td>\n",
       "</tr>\n",
       "<tr>\n",
       "  <th>Prob(Omnibus):</th> <td> 0.000</td>  <th>  Jarque-Bera (JB):  </th> <td> 387.839</td>\n",
       "</tr>\n",
       "<tr>\n",
       "  <th>Skew:</th>          <td>-0.098</td>  <th>  Prob(JB):          </th> <td>6.05e-85</td>\n",
       "</tr>\n",
       "<tr>\n",
       "  <th>Kurtosis:</th>      <td> 3.667</td>  <th>  Cond. No.          </th> <td>    130.</td>\n",
       "</tr>\n",
       "</table><br/><br/>Notes:<br/>[1] Standard Errors assume that the covariance matrix of the errors is correctly specified."
      ],
      "text/plain": [
       "<class 'statsmodels.iolib.summary.Summary'>\n",
       "\"\"\"\n",
       "                            OLS Regression Results                            \n",
       "==============================================================================\n",
       "Dep. Variable:        Temperature (C)   R-squared:                       0.987\n",
       "Model:                            OLS   Adj. R-squared:                  0.987\n",
       "Method:                 Least Squares   F-statistic:                 4.907e+05\n",
       "Date:                Wed, 20 Jul 2022   Prob (F-statistic):               0.00\n",
       "Time:                        00:09:53   Log-Likelihood:                -28895.\n",
       "No. Observations:               19283   AIC:                         5.780e+04\n",
       "Df Residuals:                   19279   BIC:                         5.783e+04\n",
       "Df Model:                           3                                         \n",
       "Covariance Type:            nonrobust                                         \n",
       "============================================================================================\n",
       "                               coef    std err          t      P>|t|      [0.025      0.975]\n",
       "--------------------------------------------------------------------------------------------\n",
       "const                        4.3952      0.047     94.096      0.000       4.304       4.487\n",
       "Apparent Temperature (C)     0.8494      0.001    781.933      0.000       0.847       0.852\n",
       "Humidity                    -2.7218      0.051    -53.429      0.000      -2.822      -2.622\n",
       "Precip Type_rain             0.3586      0.030     12.134      0.000       0.301       0.416\n",
       "==============================================================================\n",
       "Omnibus:                      237.209   Durbin-Watson:                   1.986\n",
       "Prob(Omnibus):                  0.000   Jarque-Bera (JB):              387.839\n",
       "Skew:                          -0.098   Prob(JB):                     6.05e-85\n",
       "Kurtosis:                       3.667   Cond. No.                         130.\n",
       "==============================================================================\n",
       "\n",
       "Notes:\n",
       "[1] Standard Errors assume that the covariance matrix of the errors is correctly specified.\n",
       "\"\"\""
      ]
     },
     "execution_count": 88,
     "metadata": {},
     "output_type": "execute_result"
    }
   ],
   "source": [
    "model_test_new = sm.OLS(y_test,New_X_test_d).fit()\n",
    "\n",
    "model_test_new.summary()"
   ]
  },
  {
   "cell_type": "code",
   "execution_count": 89,
   "id": "318775cd",
   "metadata": {},
   "outputs": [
    {
     "data": {
      "text/html": [
       "<div>\n",
       "<style scoped>\n",
       "    .dataframe tbody tr th:only-of-type {\n",
       "        vertical-align: middle;\n",
       "    }\n",
       "\n",
       "    .dataframe tbody tr th {\n",
       "        vertical-align: top;\n",
       "    }\n",
       "\n",
       "    .dataframe thead th {\n",
       "        text-align: right;\n",
       "    }\n",
       "</style>\n",
       "<table border=\"1\" class=\"dataframe\">\n",
       "  <thead>\n",
       "    <tr style=\"text-align: right;\">\n",
       "      <th></th>\n",
       "      <th>VIF Factor</th>\n",
       "      <th>features</th>\n",
       "    </tr>\n",
       "  </thead>\n",
       "  <tbody>\n",
       "    <tr>\n",
       "      <th>0</th>\n",
       "      <td>35.5</td>\n",
       "      <td>const</td>\n",
       "    </tr>\n",
       "    <tr>\n",
       "      <th>1</th>\n",
       "      <td>2.2</td>\n",
       "      <td>Apparent Temperature (C)</td>\n",
       "    </tr>\n",
       "    <tr>\n",
       "      <th>2</th>\n",
       "      <td>1.6</td>\n",
       "      <td>Humidity</td>\n",
       "    </tr>\n",
       "    <tr>\n",
       "      <th>3</th>\n",
       "      <td>1.5</td>\n",
       "      <td>Precip Type_rain</td>\n",
       "    </tr>\n",
       "  </tbody>\n",
       "</table>\n",
       "</div>"
      ],
      "text/plain": [
       "   VIF Factor                  features\n",
       "0        35.5                     const\n",
       "1         2.2  Apparent Temperature (C)\n",
       "2         1.6                  Humidity\n",
       "3         1.5          Precip Type_rain"
      ]
     },
     "execution_count": 89,
     "metadata": {},
     "output_type": "execute_result"
    }
   ],
   "source": [
    "from statsmodels.stats.outliers_influence import variance_inflation_factor\n",
    "vif_1 = pd.DataFrame()\n",
    "vif_1[\"VIF Factor\"] =[variance_inflation_factor(New_X_train_d.values, j) for j in range(New_X_train_d.shape[1])]\n",
    "vif_1[\"features\"] = New_X_train_d.columns\n",
    "vif_1.round(1)"
   ]
  },
  {
   "cell_type": "markdown",
   "id": "a922a0bf",
   "metadata": {},
   "source": [
    "# Adding visibility as variable"
   ]
  },
  {
   "cell_type": "markdown",
   "id": "280b48f5",
   "metadata": {},
   "source": [
    "**We saw that visibility also had corelation with temperature. So lets add that also in the dependent variables or explainatory variables**"
   ]
  },
  {
   "cell_type": "code",
   "execution_count": 137,
   "id": "e18adce8",
   "metadata": {
    "scrolled": true
   },
   "outputs": [
    {
     "data": {
      "text/html": [
       "<div>\n",
       "<style scoped>\n",
       "    .dataframe tbody tr th:only-of-type {\n",
       "        vertical-align: middle;\n",
       "    }\n",
       "\n",
       "    .dataframe tbody tr th {\n",
       "        vertical-align: top;\n",
       "    }\n",
       "\n",
       "    .dataframe thead th {\n",
       "        text-align: right;\n",
       "    }\n",
       "</style>\n",
       "<table border=\"1\" class=\"dataframe\">\n",
       "  <thead>\n",
       "    <tr style=\"text-align: right;\">\n",
       "      <th></th>\n",
       "      <th>Formatted Date</th>\n",
       "      <th>Summary</th>\n",
       "      <th>Precip Type</th>\n",
       "      <th>Temperature (C)</th>\n",
       "      <th>Apparent Temperature (C)</th>\n",
       "      <th>Humidity</th>\n",
       "      <th>Wind Speed (km/h)</th>\n",
       "      <th>Wind Bearing (degrees)</th>\n",
       "      <th>Visibility (km)</th>\n",
       "      <th>Loud Cover</th>\n",
       "      <th>Pressure (millibars)</th>\n",
       "      <th>Daily Summary</th>\n",
       "    </tr>\n",
       "  </thead>\n",
       "  <tbody>\n",
       "    <tr>\n",
       "      <th>0</th>\n",
       "      <td>2006-04-01 00:00:00.000 +0200</td>\n",
       "      <td>Partly Cloudy</td>\n",
       "      <td>rain</td>\n",
       "      <td>9.472222</td>\n",
       "      <td>7.388889</td>\n",
       "      <td>0.89</td>\n",
       "      <td>14.1197</td>\n",
       "      <td>251.0</td>\n",
       "      <td>15.8263</td>\n",
       "      <td>0.0</td>\n",
       "      <td>1015.13</td>\n",
       "      <td>Partly cloudy throughout the day.</td>\n",
       "    </tr>\n",
       "  </tbody>\n",
       "</table>\n",
       "</div>"
      ],
      "text/plain": [
       "                  Formatted Date        Summary Precip Type  Temperature (C)  \\\n",
       "0  2006-04-01 00:00:00.000 +0200  Partly Cloudy        rain         9.472222   \n",
       "\n",
       "   Apparent Temperature (C)  Humidity  Wind Speed (km/h)  \\\n",
       "0                  7.388889      0.89            14.1197   \n",
       "\n",
       "   Wind Bearing (degrees)  Visibility (km)  Loud Cover  Pressure (millibars)  \\\n",
       "0                   251.0          15.8263         0.0               1015.13   \n",
       "\n",
       "                       Daily Summary  \n",
       "0  Partly cloudy throughout the day.  "
      ]
     },
     "execution_count": 137,
     "metadata": {},
     "output_type": "execute_result"
    }
   ],
   "source": [
    "weather_data.head(1)"
   ]
  },
  {
   "cell_type": "code",
   "execution_count": 138,
   "id": "41f2ad2c",
   "metadata": {},
   "outputs": [],
   "source": [
    "DS= weather_data.iloc[:,[0,2,3,4,5,8]]"
   ]
  },
  {
   "cell_type": "code",
   "execution_count": 139,
   "id": "414a1d24",
   "metadata": {},
   "outputs": [
    {
     "data": {
      "text/html": [
       "<div>\n",
       "<style scoped>\n",
       "    .dataframe tbody tr th:only-of-type {\n",
       "        vertical-align: middle;\n",
       "    }\n",
       "\n",
       "    .dataframe tbody tr th {\n",
       "        vertical-align: top;\n",
       "    }\n",
       "\n",
       "    .dataframe thead th {\n",
       "        text-align: right;\n",
       "    }\n",
       "</style>\n",
       "<table border=\"1\" class=\"dataframe\">\n",
       "  <thead>\n",
       "    <tr style=\"text-align: right;\">\n",
       "      <th></th>\n",
       "      <th>Temperature (C)</th>\n",
       "      <th>Apparent Temperature (C)</th>\n",
       "      <th>Humidity</th>\n",
       "      <th>Visibility (km)</th>\n",
       "    </tr>\n",
       "  </thead>\n",
       "  <tbody>\n",
       "    <tr>\n",
       "      <th>Temperature (C)</th>\n",
       "      <td>1.000000</td>\n",
       "      <td>0.992629</td>\n",
       "      <td>-0.632255</td>\n",
       "      <td>0.392847</td>\n",
       "    </tr>\n",
       "    <tr>\n",
       "      <th>Apparent Temperature (C)</th>\n",
       "      <td>0.992629</td>\n",
       "      <td>1.000000</td>\n",
       "      <td>-0.602571</td>\n",
       "      <td>0.381718</td>\n",
       "    </tr>\n",
       "    <tr>\n",
       "      <th>Humidity</th>\n",
       "      <td>-0.632255</td>\n",
       "      <td>-0.602571</td>\n",
       "      <td>1.000000</td>\n",
       "      <td>-0.369173</td>\n",
       "    </tr>\n",
       "    <tr>\n",
       "      <th>Visibility (km)</th>\n",
       "      <td>0.392847</td>\n",
       "      <td>0.381718</td>\n",
       "      <td>-0.369173</td>\n",
       "      <td>1.000000</td>\n",
       "    </tr>\n",
       "  </tbody>\n",
       "</table>\n",
       "</div>"
      ],
      "text/plain": [
       "                          Temperature (C)  Apparent Temperature (C)  Humidity  \\\n",
       "Temperature (C)                  1.000000                  0.992629 -0.632255   \n",
       "Apparent Temperature (C)         0.992629                  1.000000 -0.602571   \n",
       "Humidity                        -0.632255                 -0.602571  1.000000   \n",
       "Visibility (km)                  0.392847                  0.381718 -0.369173   \n",
       "\n",
       "                          Visibility (km)  \n",
       "Temperature (C)                  0.392847  \n",
       "Apparent Temperature (C)         0.381718  \n",
       "Humidity                        -0.369173  \n",
       "Visibility (km)                  1.000000  "
      ]
     },
     "execution_count": 139,
     "metadata": {},
     "output_type": "execute_result"
    }
   ],
   "source": [
    "DS.corr()"
   ]
  },
  {
   "cell_type": "code",
   "execution_count": 149,
   "id": "fbf8e860",
   "metadata": {},
   "outputs": [],
   "source": [
    "outlier_data_1 = detect_outlier(DS[\"Humidity\"])"
   ]
  },
  {
   "cell_type": "code",
   "execution_count": 142,
   "id": "924d558b",
   "metadata": {},
   "outputs": [],
   "source": [
    "#Removing outliers\n",
    "DS_clean = DS[(DS[\"Humidity\"] > DS[\"Humidity\"].isin(detect_outlier(DS[\"Humidity\"])))]"
   ]
  },
  {
   "cell_type": "markdown",
   "id": "c339beb8",
   "metadata": {},
   "source": [
    "Here we have made the outlier filter dynamic. Where we have taken all the values which are bigger than the one in outliers"
   ]
  },
  {
   "cell_type": "code",
   "execution_count": 154,
   "id": "e2fee101",
   "metadata": {},
   "outputs": [
    {
     "data": {
      "text/html": [
       "<div>\n",
       "<style scoped>\n",
       "    .dataframe tbody tr th:only-of-type {\n",
       "        vertical-align: middle;\n",
       "    }\n",
       "\n",
       "    .dataframe tbody tr th {\n",
       "        vertical-align: top;\n",
       "    }\n",
       "\n",
       "    .dataframe thead th {\n",
       "        text-align: right;\n",
       "    }\n",
       "</style>\n",
       "<table border=\"1\" class=\"dataframe\">\n",
       "  <thead>\n",
       "    <tr style=\"text-align: right;\">\n",
       "      <th></th>\n",
       "      <th>Formatted Date</th>\n",
       "      <th>Precip Type</th>\n",
       "      <th>Temperature (C)</th>\n",
       "      <th>Apparent Temperature (C)</th>\n",
       "      <th>Humidity</th>\n",
       "      <th>Visibility (km)</th>\n",
       "    </tr>\n",
       "  </thead>\n",
       "  <tbody>\n",
       "    <tr>\n",
       "      <th>0</th>\n",
       "      <td>2006-04-01 00:00:00.000 +0200</td>\n",
       "      <td>rain</td>\n",
       "      <td>9.472222</td>\n",
       "      <td>7.388889</td>\n",
       "      <td>0.89</td>\n",
       "      <td>15.8263</td>\n",
       "    </tr>\n",
       "    <tr>\n",
       "      <th>1</th>\n",
       "      <td>2006-04-01 01:00:00.000 +0200</td>\n",
       "      <td>rain</td>\n",
       "      <td>9.355556</td>\n",
       "      <td>7.227778</td>\n",
       "      <td>0.86</td>\n",
       "      <td>15.8263</td>\n",
       "    </tr>\n",
       "    <tr>\n",
       "      <th>2</th>\n",
       "      <td>2006-04-01 02:00:00.000 +0200</td>\n",
       "      <td>rain</td>\n",
       "      <td>9.377778</td>\n",
       "      <td>9.377778</td>\n",
       "      <td>0.89</td>\n",
       "      <td>14.9569</td>\n",
       "    </tr>\n",
       "    <tr>\n",
       "      <th>3</th>\n",
       "      <td>2006-04-01 03:00:00.000 +0200</td>\n",
       "      <td>rain</td>\n",
       "      <td>8.288889</td>\n",
       "      <td>5.944444</td>\n",
       "      <td>0.83</td>\n",
       "      <td>15.8263</td>\n",
       "    </tr>\n",
       "    <tr>\n",
       "      <th>4</th>\n",
       "      <td>2006-04-01 04:00:00.000 +0200</td>\n",
       "      <td>rain</td>\n",
       "      <td>8.755556</td>\n",
       "      <td>6.977778</td>\n",
       "      <td>0.83</td>\n",
       "      <td>15.8263</td>\n",
       "    </tr>\n",
       "  </tbody>\n",
       "</table>\n",
       "</div>"
      ],
      "text/plain": [
       "                  Formatted Date Precip Type  Temperature (C)  \\\n",
       "0  2006-04-01 00:00:00.000 +0200        rain         9.472222   \n",
       "1  2006-04-01 01:00:00.000 +0200        rain         9.355556   \n",
       "2  2006-04-01 02:00:00.000 +0200        rain         9.377778   \n",
       "3  2006-04-01 03:00:00.000 +0200        rain         8.288889   \n",
       "4  2006-04-01 04:00:00.000 +0200        rain         8.755556   \n",
       "\n",
       "   Apparent Temperature (C)  Humidity  Visibility (km)  \n",
       "0                  7.388889      0.89          15.8263  \n",
       "1                  7.227778      0.86          15.8263  \n",
       "2                  9.377778      0.89          14.9569  \n",
       "3                  5.944444      0.83          15.8263  \n",
       "4                  6.977778      0.83          15.8263  "
      ]
     },
     "execution_count": 154,
     "metadata": {},
     "output_type": "execute_result"
    }
   ],
   "source": [
    "DS_clean.head()"
   ]
  },
  {
   "cell_type": "code",
   "execution_count": 157,
   "id": "dfb3b731",
   "metadata": {},
   "outputs": [],
   "source": [
    "#Setting up X dataset\n",
    "Xv= DS_clean.iloc[:,[1,3,4,5]] #Feature Data\n",
    "Yv = DS_clean.iloc[:,2]\n",
    "#Getting Dummy variables\n",
    "Xv1= pd.get_dummies(Xv, columns =['Precip Type'])"
   ]
  },
  {
   "cell_type": "code",
   "execution_count": 158,
   "id": "9bf63f42",
   "metadata": {},
   "outputs": [],
   "source": [
    "Xv_train, Xv_test, yv_train, yv_test = train_test_split(Xv1, Yv, test_size = 0.2, random_state = 0)"
   ]
  },
  {
   "cell_type": "code",
   "execution_count": 159,
   "id": "deb9c93c",
   "metadata": {},
   "outputs": [],
   "source": [
    "Xv_train=sm.add_constant(Xv_train)\n",
    "Xv_test=sm.add_constant(Xv_test)"
   ]
  },
  {
   "cell_type": "code",
   "execution_count": 160,
   "id": "63ab7382",
   "metadata": {},
   "outputs": [],
   "source": [
    "Xv_train_d=pd.DataFrame(Xv_train)\n",
    "Xv_test_d =pd.DataFrame(Xv_test)"
   ]
  },
  {
   "cell_type": "code",
   "execution_count": 161,
   "id": "71f799e4",
   "metadata": {},
   "outputs": [
    {
     "name": "stdout",
     "output_type": "stream",
     "text": [
      "Summary for train-->\n"
     ]
    },
    {
     "data": {
      "text/html": [
       "<table class=\"simpletable\">\n",
       "<caption>OLS Regression Results</caption>\n",
       "<tr>\n",
       "  <th>Dep. Variable:</th>     <td>Temperature (C)</td> <th>  R-squared:         </th>  <td>   0.987</td>  \n",
       "</tr>\n",
       "<tr>\n",
       "  <th>Model:</th>                   <td>OLS</td>       <th>  Adj. R-squared:    </th>  <td>   0.987</td>  \n",
       "</tr>\n",
       "<tr>\n",
       "  <th>Method:</th>             <td>Least Squares</td>  <th>  F-statistic:       </th>  <td>1.198e+06</td> \n",
       "</tr>\n",
       "<tr>\n",
       "  <th>Date:</th>             <td>Wed, 20 Jul 2022</td> <th>  Prob (F-statistic):</th>   <td>  0.00</td>   \n",
       "</tr>\n",
       "<tr>\n",
       "  <th>Time:</th>                 <td>00:58:01</td>     <th>  Log-Likelihood:    </th> <td>-1.1505e+05</td>\n",
       "</tr>\n",
       "<tr>\n",
       "  <th>No. Observations:</th>      <td> 77140</td>      <th>  AIC:               </th>  <td>2.301e+05</td> \n",
       "</tr>\n",
       "<tr>\n",
       "  <th>Df Residuals:</th>          <td> 77134</td>      <th>  BIC:               </th>  <td>2.302e+05</td> \n",
       "</tr>\n",
       "<tr>\n",
       "  <th>Df Model:</th>              <td>     5</td>      <th>                     </th>      <td> </td>     \n",
       "</tr>\n",
       "<tr>\n",
       "  <th>Covariance Type:</th>      <td>nonrobust</td>    <th>                     </th>      <td> </td>     \n",
       "</tr>\n",
       "</table>\n",
       "<table class=\"simpletable\">\n",
       "<tr>\n",
       "              <td></td>                <th>coef</th>     <th>std err</th>      <th>t</th>      <th>P>|t|</th>  <th>[0.025</th>    <th>0.975]</th>  \n",
       "</tr>\n",
       "<tr>\n",
       "  <th>const</th>                    <td>    4.1945</td> <td>    0.058</td> <td>   71.873</td> <td> 0.000</td> <td>    4.080</td> <td>    4.309</td>\n",
       "</tr>\n",
       "<tr>\n",
       "  <th>Apparent Temperature (C)</th> <td>    0.8499</td> <td>    0.001</td> <td> 1557.767</td> <td> 0.000</td> <td>    0.849</td> <td>    0.851</td>\n",
       "</tr>\n",
       "<tr>\n",
       "  <th>Humidity</th>                 <td>   -2.6522</td> <td>    0.026</td> <td> -102.602</td> <td> 0.000</td> <td>   -2.703</td> <td>   -2.602</td>\n",
       "</tr>\n",
       "<tr>\n",
       "  <th>Visibility (km)</th>          <td>    0.0139</td> <td>    0.001</td> <td>   13.459</td> <td> 0.000</td> <td>    0.012</td> <td>    0.016</td>\n",
       "</tr>\n",
       "<tr>\n",
       "  <th>Precip Type_rain</th>         <td>    0.3528</td> <td>    0.053</td> <td>    6.649</td> <td> 0.000</td> <td>    0.249</td> <td>    0.457</td>\n",
       "</tr>\n",
       "<tr>\n",
       "  <th>Precip Type_snow</th>         <td>    0.0531</td> <td>    0.055</td> <td>    0.974</td> <td> 0.330</td> <td>   -0.054</td> <td>    0.160</td>\n",
       "</tr>\n",
       "</table>\n",
       "<table class=\"simpletable\">\n",
       "<tr>\n",
       "  <th>Omnibus:</th>       <td>1177.896</td> <th>  Durbin-Watson:     </th> <td>   1.997</td>\n",
       "</tr>\n",
       "<tr>\n",
       "  <th>Prob(Omnibus):</th>  <td> 0.000</td>  <th>  Jarque-Bera (JB):  </th> <td>2115.029</td>\n",
       "</tr>\n",
       "<tr>\n",
       "  <th>Skew:</th>           <td>-0.097</td>  <th>  Prob(JB):          </th> <td>    0.00</td>\n",
       "</tr>\n",
       "<tr>\n",
       "  <th>Kurtosis:</th>       <td> 3.788</td>  <th>  Cond. No.          </th> <td>    430.</td>\n",
       "</tr>\n",
       "</table><br/><br/>Notes:<br/>[1] Standard Errors assume that the covariance matrix of the errors is correctly specified."
      ],
      "text/plain": [
       "<class 'statsmodels.iolib.summary.Summary'>\n",
       "\"\"\"\n",
       "                            OLS Regression Results                            \n",
       "==============================================================================\n",
       "Dep. Variable:        Temperature (C)   R-squared:                       0.987\n",
       "Model:                            OLS   Adj. R-squared:                  0.987\n",
       "Method:                 Least Squares   F-statistic:                 1.198e+06\n",
       "Date:                Wed, 20 Jul 2022   Prob (F-statistic):               0.00\n",
       "Time:                        00:58:01   Log-Likelihood:            -1.1505e+05\n",
       "No. Observations:               77140   AIC:                         2.301e+05\n",
       "Df Residuals:                   77134   BIC:                         2.302e+05\n",
       "Df Model:                           5                                         \n",
       "Covariance Type:            nonrobust                                         \n",
       "============================================================================================\n",
       "                               coef    std err          t      P>|t|      [0.025      0.975]\n",
       "--------------------------------------------------------------------------------------------\n",
       "const                        4.1945      0.058     71.873      0.000       4.080       4.309\n",
       "Apparent Temperature (C)     0.8499      0.001   1557.767      0.000       0.849       0.851\n",
       "Humidity                    -2.6522      0.026   -102.602      0.000      -2.703      -2.602\n",
       "Visibility (km)              0.0139      0.001     13.459      0.000       0.012       0.016\n",
       "Precip Type_rain             0.3528      0.053      6.649      0.000       0.249       0.457\n",
       "Precip Type_snow             0.0531      0.055      0.974      0.330      -0.054       0.160\n",
       "==============================================================================\n",
       "Omnibus:                     1177.896   Durbin-Watson:                   1.997\n",
       "Prob(Omnibus):                  0.000   Jarque-Bera (JB):             2115.029\n",
       "Skew:                          -0.097   Prob(JB):                         0.00\n",
       "Kurtosis:                       3.788   Cond. No.                         430.\n",
       "==============================================================================\n",
       "\n",
       "Notes:\n",
       "[1] Standard Errors assume that the covariance matrix of the errors is correctly specified.\n",
       "\"\"\""
      ]
     },
     "execution_count": 161,
     "metadata": {},
     "output_type": "execute_result"
    }
   ],
   "source": [
    "modelv_train = sm.OLS(yv_train,Xv_train_d).fit()\n",
    "print(\"Summary for train-->\")\n",
    "modelv_train.summary()"
   ]
  },
  {
   "cell_type": "code",
   "execution_count": 162,
   "id": "bf5bfe2d",
   "metadata": {},
   "outputs": [],
   "source": [
    "Model_2train_Coef=pd.concat([pd.DataFrame(modelv_train.params),pd.DataFrame(modelv_train.pvalues)], axis = 1)\n",
    "Model_2train_Coef.columns=['Coef', 'P-value']"
   ]
  },
  {
   "cell_type": "code",
   "execution_count": 164,
   "id": "12b034da",
   "metadata": {},
   "outputs": [
    {
     "data": {
      "text/html": [
       "<div>\n",
       "<style scoped>\n",
       "    .dataframe tbody tr th:only-of-type {\n",
       "        vertical-align: middle;\n",
       "    }\n",
       "\n",
       "    .dataframe tbody tr th {\n",
       "        vertical-align: top;\n",
       "    }\n",
       "\n",
       "    .dataframe thead th {\n",
       "        text-align: right;\n",
       "    }\n",
       "</style>\n",
       "<table border=\"1\" class=\"dataframe\">\n",
       "  <thead>\n",
       "    <tr style=\"text-align: right;\">\n",
       "      <th></th>\n",
       "      <th>Coef</th>\n",
       "      <th>P-value</th>\n",
       "    </tr>\n",
       "  </thead>\n",
       "  <tbody>\n",
       "    <tr>\n",
       "      <th>const</th>\n",
       "      <td>4.194466</td>\n",
       "      <td>0.000000e+00</td>\n",
       "    </tr>\n",
       "    <tr>\n",
       "      <th>Apparent Temperature (C)</th>\n",
       "      <td>0.849888</td>\n",
       "      <td>0.000000e+00</td>\n",
       "    </tr>\n",
       "    <tr>\n",
       "      <th>Humidity</th>\n",
       "      <td>-2.652220</td>\n",
       "      <td>0.000000e+00</td>\n",
       "    </tr>\n",
       "    <tr>\n",
       "      <th>Visibility (km)</th>\n",
       "      <td>0.013927</td>\n",
       "      <td>3.034170e-41</td>\n",
       "    </tr>\n",
       "    <tr>\n",
       "      <th>Precip Type_rain</th>\n",
       "      <td>0.352816</td>\n",
       "      <td>2.964652e-11</td>\n",
       "    </tr>\n",
       "    <tr>\n",
       "      <th>Precip Type_snow</th>\n",
       "      <td>0.053066</td>\n",
       "      <td>3.303063e-01</td>\n",
       "    </tr>\n",
       "  </tbody>\n",
       "</table>\n",
       "</div>"
      ],
      "text/plain": [
       "                              Coef       P-value\n",
       "const                     4.194466  0.000000e+00\n",
       "Apparent Temperature (C)  0.849888  0.000000e+00\n",
       "Humidity                 -2.652220  0.000000e+00\n",
       "Visibility (km)           0.013927  3.034170e-41\n",
       "Precip Type_rain          0.352816  2.964652e-11\n",
       "Precip Type_snow          0.053066  3.303063e-01"
      ]
     },
     "execution_count": 164,
     "metadata": {},
     "output_type": "execute_result"
    }
   ],
   "source": [
    "Model_2train_Coef"
   ]
  },
  {
   "cell_type": "code",
   "execution_count": 166,
   "id": "be1b6618",
   "metadata": {},
   "outputs": [
    {
     "data": {
      "text/html": [
       "<table class=\"simpletable\">\n",
       "<caption>OLS Regression Results</caption>\n",
       "<tr>\n",
       "  <th>Dep. Variable:</th>     <td>Temperature (C)</td> <th>  R-squared:         </th> <td>   0.987</td> \n",
       "</tr>\n",
       "<tr>\n",
       "  <th>Model:</th>                   <td>OLS</td>       <th>  Adj. R-squared:    </th> <td>   0.987</td> \n",
       "</tr>\n",
       "<tr>\n",
       "  <th>Method:</th>             <td>Least Squares</td>  <th>  F-statistic:       </th> <td>3.680e+05</td>\n",
       "</tr>\n",
       "<tr>\n",
       "  <th>Date:</th>             <td>Wed, 20 Jul 2022</td> <th>  Prob (F-statistic):</th>  <td>  0.00</td>  \n",
       "</tr>\n",
       "<tr>\n",
       "  <th>Time:</th>                 <td>01:01:40</td>     <th>  Log-Likelihood:    </th> <td> -28895.</td> \n",
       "</tr>\n",
       "<tr>\n",
       "  <th>No. Observations:</th>      <td> 19283</td>      <th>  AIC:               </th> <td>5.780e+04</td>\n",
       "</tr>\n",
       "<tr>\n",
       "  <th>Df Residuals:</th>          <td> 19278</td>      <th>  BIC:               </th> <td>5.784e+04</td>\n",
       "</tr>\n",
       "<tr>\n",
       "  <th>Df Model:</th>              <td>     4</td>      <th>                     </th>     <td> </td>    \n",
       "</tr>\n",
       "<tr>\n",
       "  <th>Covariance Type:</th>      <td>nonrobust</td>    <th>                     </th>     <td> </td>    \n",
       "</tr>\n",
       "</table>\n",
       "<table class=\"simpletable\">\n",
       "<tr>\n",
       "              <td></td>                <th>coef</th>     <th>std err</th>      <th>t</th>      <th>P>|t|</th>  <th>[0.025</th>    <th>0.975]</th>  \n",
       "</tr>\n",
       "<tr>\n",
       "  <th>const</th>                    <td>    4.4650</td> <td>    0.114</td> <td>   38.996</td> <td> 0.000</td> <td>    4.241</td> <td>    4.689</td>\n",
       "</tr>\n",
       "<tr>\n",
       "  <th>Apparent Temperature (C)</th> <td>    0.8493</td> <td>    0.001</td> <td>  775.923</td> <td> 0.000</td> <td>    0.847</td> <td>    0.851</td>\n",
       "</tr>\n",
       "<tr>\n",
       "  <th>Humidity</th>                 <td>   -2.7231</td> <td>    0.051</td> <td>  -53.413</td> <td> 0.000</td> <td>   -2.823</td> <td>   -2.623</td>\n",
       "</tr>\n",
       "<tr>\n",
       "  <th>Precip Type_rain</th>         <td>    0.2909</td> <td>    0.106</td> <td>    2.756</td> <td> 0.006</td> <td>    0.084</td> <td>    0.498</td>\n",
       "</tr>\n",
       "<tr>\n",
       "  <th>Precip Type_snow</th>         <td>   -0.0725</td> <td>    0.109</td> <td>   -0.668</td> <td> 0.504</td> <td>   -0.286</td> <td>    0.140</td>\n",
       "</tr>\n",
       "</table>\n",
       "<table class=\"simpletable\">\n",
       "<tr>\n",
       "  <th>Omnibus:</th>       <td>235.033</td> <th>  Durbin-Watson:     </th> <td>   1.986</td>\n",
       "</tr>\n",
       "<tr>\n",
       "  <th>Prob(Omnibus):</th> <td> 0.000</td>  <th>  Jarque-Bera (JB):  </th> <td> 384.280</td>\n",
       "</tr>\n",
       "<tr>\n",
       "  <th>Skew:</th>          <td>-0.096</td>  <th>  Prob(JB):          </th> <td>3.59e-84</td>\n",
       "</tr>\n",
       "<tr>\n",
       "  <th>Kurtosis:</th>      <td> 3.664</td>  <th>  Cond. No.          </th> <td>    362.</td>\n",
       "</tr>\n",
       "</table><br/><br/>Notes:<br/>[1] Standard Errors assume that the covariance matrix of the errors is correctly specified."
      ],
      "text/plain": [
       "<class 'statsmodels.iolib.summary.Summary'>\n",
       "\"\"\"\n",
       "                            OLS Regression Results                            \n",
       "==============================================================================\n",
       "Dep. Variable:        Temperature (C)   R-squared:                       0.987\n",
       "Model:                            OLS   Adj. R-squared:                  0.987\n",
       "Method:                 Least Squares   F-statistic:                 3.680e+05\n",
       "Date:                Wed, 20 Jul 2022   Prob (F-statistic):               0.00\n",
       "Time:                        01:01:40   Log-Likelihood:                -28895.\n",
       "No. Observations:               19283   AIC:                         5.780e+04\n",
       "Df Residuals:                   19278   BIC:                         5.784e+04\n",
       "Df Model:                           4                                         \n",
       "Covariance Type:            nonrobust                                         \n",
       "============================================================================================\n",
       "                               coef    std err          t      P>|t|      [0.025      0.975]\n",
       "--------------------------------------------------------------------------------------------\n",
       "const                        4.4650      0.114     38.996      0.000       4.241       4.689\n",
       "Apparent Temperature (C)     0.8493      0.001    775.923      0.000       0.847       0.851\n",
       "Humidity                    -2.7231      0.051    -53.413      0.000      -2.823      -2.623\n",
       "Precip Type_rain             0.2909      0.106      2.756      0.006       0.084       0.498\n",
       "Precip Type_snow            -0.0725      0.109     -0.668      0.504      -0.286       0.140\n",
       "==============================================================================\n",
       "Omnibus:                      235.033   Durbin-Watson:                   1.986\n",
       "Prob(Omnibus):                  0.000   Jarque-Bera (JB):              384.280\n",
       "Skew:                          -0.096   Prob(JB):                     3.59e-84\n",
       "Kurtosis:                       3.664   Cond. No.                         362.\n",
       "==============================================================================\n",
       "\n",
       "Notes:\n",
       "[1] Standard Errors assume that the covariance matrix of the errors is correctly specified.\n",
       "\"\"\""
      ]
     },
     "execution_count": 166,
     "metadata": {},
     "output_type": "execute_result"
    }
   ],
   "source": [
    "modelv_test = sm.OLS(yv_test,Xv_test_d).fit()\n",
    "model_test.summary()"
   ]
  },
  {
   "cell_type": "code",
   "execution_count": 167,
   "id": "c9ad083b",
   "metadata": {},
   "outputs": [
    {
     "data": {
      "text/html": [
       "<div>\n",
       "<style scoped>\n",
       "    .dataframe tbody tr th:only-of-type {\n",
       "        vertical-align: middle;\n",
       "    }\n",
       "\n",
       "    .dataframe tbody tr th {\n",
       "        vertical-align: top;\n",
       "    }\n",
       "\n",
       "    .dataframe thead th {\n",
       "        text-align: right;\n",
       "    }\n",
       "</style>\n",
       "<table border=\"1\" class=\"dataframe\">\n",
       "  <thead>\n",
       "    <tr style=\"text-align: right;\">\n",
       "      <th></th>\n",
       "      <th>VIF Factor</th>\n",
       "      <th>features</th>\n",
       "    </tr>\n",
       "  </thead>\n",
       "  <tbody>\n",
       "    <tr>\n",
       "      <th>0</th>\n",
       "      <td>227.3</td>\n",
       "      <td>const</td>\n",
       "    </tr>\n",
       "    <tr>\n",
       "      <th>1</th>\n",
       "      <td>2.3</td>\n",
       "      <td>Apparent Temperature (C)</td>\n",
       "    </tr>\n",
       "    <tr>\n",
       "      <th>2</th>\n",
       "      <td>1.7</td>\n",
       "      <td>Humidity</td>\n",
       "    </tr>\n",
       "    <tr>\n",
       "      <th>3</th>\n",
       "      <td>1.3</td>\n",
       "      <td>Visibility (km)</td>\n",
       "    </tr>\n",
       "    <tr>\n",
       "      <th>4</th>\n",
       "      <td>19.3</td>\n",
       "      <td>Precip Type_rain</td>\n",
       "    </tr>\n",
       "    <tr>\n",
       "      <th>5</th>\n",
       "      <td>19.5</td>\n",
       "      <td>Precip Type_snow</td>\n",
       "    </tr>\n",
       "  </tbody>\n",
       "</table>\n",
       "</div>"
      ],
      "text/plain": [
       "   VIF Factor                  features\n",
       "0       227.3                     const\n",
       "1         2.3  Apparent Temperature (C)\n",
       "2         1.7                  Humidity\n",
       "3         1.3           Visibility (km)\n",
       "4        19.3          Precip Type_rain\n",
       "5        19.5          Precip Type_snow"
      ]
     },
     "execution_count": 167,
     "metadata": {},
     "output_type": "execute_result"
    }
   ],
   "source": [
    "vifv = pd.DataFrame()\n",
    "vifv[\"VIF Factor\"] =[variance_inflation_factor(Xv_train_d.values, j) for j in range(Xv_train_d.shape[1])]\n",
    "vifv[\"features\"] = Xv_train_d.columns\n",
    "vifv.round(1)"
   ]
  },
  {
   "cell_type": "markdown",
   "id": "c7fe9a78",
   "metadata": {},
   "source": [
    "**Here also we need are in dummy variable trap. So we need to remove Snow dummy variable**"
   ]
  },
  {
   "cell_type": "code",
   "execution_count": 168,
   "id": "ba58514a",
   "metadata": {},
   "outputs": [],
   "source": [
    "New_Xv_train = Xv_train_d.drop([\"Precip Type_snow\"],axis = 1)\n",
    "New_Xv_test = Xv_test_d.drop([\"Precip Type_snow\"],axis = 1)"
   ]
  },
  {
   "cell_type": "code",
   "execution_count": 169,
   "id": "4b14ad54",
   "metadata": {},
   "outputs": [],
   "source": [
    "New_Xv_train_d=pd.DataFrame(New_Xv_train)\n",
    "New_Xv_test_d =pd.DataFrame(New_Xv_test)"
   ]
  },
  {
   "cell_type": "code",
   "execution_count": 170,
   "id": "c58f7d44",
   "metadata": {},
   "outputs": [
    {
     "data": {
      "text/html": [
       "<div>\n",
       "<style scoped>\n",
       "    .dataframe tbody tr th:only-of-type {\n",
       "        vertical-align: middle;\n",
       "    }\n",
       "\n",
       "    .dataframe tbody tr th {\n",
       "        vertical-align: top;\n",
       "    }\n",
       "\n",
       "    .dataframe thead th {\n",
       "        text-align: right;\n",
       "    }\n",
       "</style>\n",
       "<table border=\"1\" class=\"dataframe\">\n",
       "  <thead>\n",
       "    <tr style=\"text-align: right;\">\n",
       "      <th></th>\n",
       "      <th>const</th>\n",
       "      <th>Apparent Temperature (C)</th>\n",
       "      <th>Humidity</th>\n",
       "      <th>Visibility (km)</th>\n",
       "      <th>Precip Type_rain</th>\n",
       "    </tr>\n",
       "  </thead>\n",
       "  <tbody>\n",
       "    <tr>\n",
       "      <th>74610</th>\n",
       "      <td>1.0</td>\n",
       "      <td>25.022222</td>\n",
       "      <td>0.54</td>\n",
       "      <td>16.1000</td>\n",
       "      <td>1</td>\n",
       "    </tr>\n",
       "    <tr>\n",
       "      <th>35109</th>\n",
       "      <td>1.0</td>\n",
       "      <td>9.883333</td>\n",
       "      <td>0.55</td>\n",
       "      <td>9.9820</td>\n",
       "      <td>1</td>\n",
       "    </tr>\n",
       "    <tr>\n",
       "      <th>66508</th>\n",
       "      <td>1.0</td>\n",
       "      <td>10.050000</td>\n",
       "      <td>0.99</td>\n",
       "      <td>3.0912</td>\n",
       "      <td>1</td>\n",
       "    </tr>\n",
       "    <tr>\n",
       "      <th>33858</th>\n",
       "      <td>1.0</td>\n",
       "      <td>5.394444</td>\n",
       "      <td>0.79</td>\n",
       "      <td>9.9820</td>\n",
       "      <td>1</td>\n",
       "    </tr>\n",
       "    <tr>\n",
       "      <th>74664</th>\n",
       "      <td>1.0</td>\n",
       "      <td>10.416667</td>\n",
       "      <td>0.75</td>\n",
       "      <td>16.1000</td>\n",
       "      <td>1</td>\n",
       "    </tr>\n",
       "  </tbody>\n",
       "</table>\n",
       "</div>"
      ],
      "text/plain": [
       "       const  Apparent Temperature (C)  Humidity  Visibility (km)  \\\n",
       "74610    1.0                 25.022222      0.54          16.1000   \n",
       "35109    1.0                  9.883333      0.55           9.9820   \n",
       "66508    1.0                 10.050000      0.99           3.0912   \n",
       "33858    1.0                  5.394444      0.79           9.9820   \n",
       "74664    1.0                 10.416667      0.75          16.1000   \n",
       "\n",
       "       Precip Type_rain  \n",
       "74610                 1  \n",
       "35109                 1  \n",
       "66508                 1  \n",
       "33858                 1  \n",
       "74664                 1  "
      ]
     },
     "execution_count": 170,
     "metadata": {},
     "output_type": "execute_result"
    }
   ],
   "source": [
    "New_Xv_test_d.head()"
   ]
  },
  {
   "cell_type": "code",
   "execution_count": 172,
   "id": "7f489f56",
   "metadata": {},
   "outputs": [
    {
     "name": "stdout",
     "output_type": "stream",
     "text": [
      "Summary for train-->\n"
     ]
    },
    {
     "data": {
      "text/html": [
       "<table class=\"simpletable\">\n",
       "<caption>OLS Regression Results</caption>\n",
       "<tr>\n",
       "  <th>Dep. Variable:</th>     <td>Temperature (C)</td> <th>  R-squared:         </th>  <td>   0.987</td>  \n",
       "</tr>\n",
       "<tr>\n",
       "  <th>Model:</th>                   <td>OLS</td>       <th>  Adj. R-squared:    </th>  <td>   0.987</td>  \n",
       "</tr>\n",
       "<tr>\n",
       "  <th>Method:</th>             <td>Least Squares</td>  <th>  F-statistic:       </th>  <td>1.497e+06</td> \n",
       "</tr>\n",
       "<tr>\n",
       "  <th>Date:</th>             <td>Wed, 20 Jul 2022</td> <th>  Prob (F-statistic):</th>   <td>  0.00</td>   \n",
       "</tr>\n",
       "<tr>\n",
       "  <th>Time:</th>                 <td>01:03:16</td>     <th>  Log-Likelihood:    </th> <td>-1.1505e+05</td>\n",
       "</tr>\n",
       "<tr>\n",
       "  <th>No. Observations:</th>      <td> 77140</td>      <th>  AIC:               </th>  <td>2.301e+05</td> \n",
       "</tr>\n",
       "<tr>\n",
       "  <th>Df Residuals:</th>          <td> 77135</td>      <th>  BIC:               </th>  <td>2.301e+05</td> \n",
       "</tr>\n",
       "<tr>\n",
       "  <th>Df Model:</th>              <td>     4</td>      <th>                     </th>      <td> </td>     \n",
       "</tr>\n",
       "<tr>\n",
       "  <th>Covariance Type:</th>      <td>nonrobust</td>    <th>                     </th>      <td> </td>     \n",
       "</tr>\n",
       "</table>\n",
       "<table class=\"simpletable\">\n",
       "<tr>\n",
       "              <td></td>                <th>coef</th>     <th>std err</th>      <th>t</th>      <th>P>|t|</th>  <th>[0.025</th>    <th>0.975]</th>  \n",
       "</tr>\n",
       "<tr>\n",
       "  <th>const</th>                    <td>    4.2453</td> <td>    0.026</td> <td>  163.344</td> <td> 0.000</td> <td>    4.194</td> <td>    4.296</td>\n",
       "</tr>\n",
       "<tr>\n",
       "  <th>Apparent Temperature (C)</th> <td>    0.8498</td> <td>    0.001</td> <td> 1569.399</td> <td> 0.000</td> <td>    0.849</td> <td>    0.851</td>\n",
       "</tr>\n",
       "<tr>\n",
       "  <th>Humidity</th>                 <td>   -2.6530</td> <td>    0.026</td> <td> -102.685</td> <td> 0.000</td> <td>   -2.704</td> <td>   -2.602</td>\n",
       "</tr>\n",
       "<tr>\n",
       "  <th>Visibility (km)</th>          <td>    0.0139</td> <td>    0.001</td> <td>   13.470</td> <td> 0.000</td> <td>    0.012</td> <td>    0.016</td>\n",
       "</tr>\n",
       "<tr>\n",
       "  <th>Precip Type_rain</th>         <td>    0.3033</td> <td>    0.015</td> <td>   20.285</td> <td> 0.000</td> <td>    0.274</td> <td>    0.333</td>\n",
       "</tr>\n",
       "</table>\n",
       "<table class=\"simpletable\">\n",
       "<tr>\n",
       "  <th>Omnibus:</th>       <td>1171.016</td> <th>  Durbin-Watson:     </th> <td>   1.997</td>\n",
       "</tr>\n",
       "<tr>\n",
       "  <th>Prob(Omnibus):</th>  <td> 0.000</td>  <th>  Jarque-Bera (JB):  </th> <td>2102.479</td>\n",
       "</tr>\n",
       "<tr>\n",
       "  <th>Skew:</th>           <td>-0.095</td>  <th>  Prob(JB):          </th> <td>    0.00</td>\n",
       "</tr>\n",
       "<tr>\n",
       "  <th>Kurtosis:</th>       <td> 3.786</td>  <th>  Cond. No.          </th> <td>    163.</td>\n",
       "</tr>\n",
       "</table><br/><br/>Notes:<br/>[1] Standard Errors assume that the covariance matrix of the errors is correctly specified."
      ],
      "text/plain": [
       "<class 'statsmodels.iolib.summary.Summary'>\n",
       "\"\"\"\n",
       "                            OLS Regression Results                            \n",
       "==============================================================================\n",
       "Dep. Variable:        Temperature (C)   R-squared:                       0.987\n",
       "Model:                            OLS   Adj. R-squared:                  0.987\n",
       "Method:                 Least Squares   F-statistic:                 1.497e+06\n",
       "Date:                Wed, 20 Jul 2022   Prob (F-statistic):               0.00\n",
       "Time:                        01:03:16   Log-Likelihood:            -1.1505e+05\n",
       "No. Observations:               77140   AIC:                         2.301e+05\n",
       "Df Residuals:                   77135   BIC:                         2.301e+05\n",
       "Df Model:                           4                                         \n",
       "Covariance Type:            nonrobust                                         \n",
       "============================================================================================\n",
       "                               coef    std err          t      P>|t|      [0.025      0.975]\n",
       "--------------------------------------------------------------------------------------------\n",
       "const                        4.2453      0.026    163.344      0.000       4.194       4.296\n",
       "Apparent Temperature (C)     0.8498      0.001   1569.399      0.000       0.849       0.851\n",
       "Humidity                    -2.6530      0.026   -102.685      0.000      -2.704      -2.602\n",
       "Visibility (km)              0.0139      0.001     13.470      0.000       0.012       0.016\n",
       "Precip Type_rain             0.3033      0.015     20.285      0.000       0.274       0.333\n",
       "==============================================================================\n",
       "Omnibus:                     1171.016   Durbin-Watson:                   1.997\n",
       "Prob(Omnibus):                  0.000   Jarque-Bera (JB):             2102.479\n",
       "Skew:                          -0.095   Prob(JB):                         0.00\n",
       "Kurtosis:                       3.786   Cond. No.                         163.\n",
       "==============================================================================\n",
       "\n",
       "Notes:\n",
       "[1] Standard Errors assume that the covariance matrix of the errors is correctly specified.\n",
       "\"\"\""
      ]
     },
     "execution_count": 172,
     "metadata": {},
     "output_type": "execute_result"
    }
   ],
   "source": [
    "modelv_train_new = sm.OLS(yv_train,New_Xv_train_d).fit()\n",
    "print(\"Summary for train-->\")\n",
    "modelv_train_new.summary()"
   ]
  },
  {
   "cell_type": "code",
   "execution_count": 179,
   "id": "7cdbd3f9",
   "metadata": {},
   "outputs": [],
   "source": [
    "Model_2train_Corrected_Coef=pd.concat([pd.DataFrame(modelv_train_new.params),pd.DataFrame(modelv_train_new.pvalues)], axis = 1)\n",
    "Model_2train_Corrected_Coef.columns=['Coef', 'P-value']"
   ]
  },
  {
   "cell_type": "code",
   "execution_count": 180,
   "id": "54ff1864",
   "metadata": {},
   "outputs": [
    {
     "data": {
      "text/html": [
       "<div>\n",
       "<style scoped>\n",
       "    .dataframe tbody tr th:only-of-type {\n",
       "        vertical-align: middle;\n",
       "    }\n",
       "\n",
       "    .dataframe tbody tr th {\n",
       "        vertical-align: top;\n",
       "    }\n",
       "\n",
       "    .dataframe thead th {\n",
       "        text-align: right;\n",
       "    }\n",
       "</style>\n",
       "<table border=\"1\" class=\"dataframe\">\n",
       "  <thead>\n",
       "    <tr style=\"text-align: right;\">\n",
       "      <th></th>\n",
       "      <th>Coef</th>\n",
       "      <th>P-value</th>\n",
       "    </tr>\n",
       "  </thead>\n",
       "  <tbody>\n",
       "    <tr>\n",
       "      <th>const</th>\n",
       "      <td>4.245334</td>\n",
       "      <td>0.000000e+00</td>\n",
       "    </tr>\n",
       "    <tr>\n",
       "      <th>Apparent Temperature (C)</th>\n",
       "      <td>0.849823</td>\n",
       "      <td>0.000000e+00</td>\n",
       "    </tr>\n",
       "    <tr>\n",
       "      <th>Humidity</th>\n",
       "      <td>-2.653021</td>\n",
       "      <td>0.000000e+00</td>\n",
       "    </tr>\n",
       "    <tr>\n",
       "      <th>Visibility (km)</th>\n",
       "      <td>0.013938</td>\n",
       "      <td>2.619543e-41</td>\n",
       "    </tr>\n",
       "    <tr>\n",
       "      <th>Precip Type_rain</th>\n",
       "      <td>0.303254</td>\n",
       "      <td>3.031666e-91</td>\n",
       "    </tr>\n",
       "  </tbody>\n",
       "</table>\n",
       "</div>"
      ],
      "text/plain": [
       "                              Coef       P-value\n",
       "const                     4.245334  0.000000e+00\n",
       "Apparent Temperature (C)  0.849823  0.000000e+00\n",
       "Humidity                 -2.653021  0.000000e+00\n",
       "Visibility (km)           0.013938  2.619543e-41\n",
       "Precip Type_rain          0.303254  3.031666e-91"
      ]
     },
     "execution_count": 180,
     "metadata": {},
     "output_type": "execute_result"
    }
   ],
   "source": [
    "Model_2train_Corrected_Coef"
   ]
  },
  {
   "cell_type": "code",
   "execution_count": 174,
   "id": "40ad40de",
   "metadata": {},
   "outputs": [
    {
     "name": "stdout",
     "output_type": "stream",
     "text": [
      "Summary for test-->\n"
     ]
    },
    {
     "data": {
      "text/html": [
       "<table class=\"simpletable\">\n",
       "<caption>OLS Regression Results</caption>\n",
       "<tr>\n",
       "  <th>Dep. Variable:</th>     <td>Temperature (C)</td> <th>  R-squared:         </th> <td>   0.987</td> \n",
       "</tr>\n",
       "<tr>\n",
       "  <th>Model:</th>                   <td>OLS</td>       <th>  Adj. R-squared:    </th> <td>   0.987</td> \n",
       "</tr>\n",
       "<tr>\n",
       "  <th>Method:</th>             <td>Least Squares</td>  <th>  F-statistic:       </th> <td>3.748e+05</td>\n",
       "</tr>\n",
       "<tr>\n",
       "  <th>Date:</th>             <td>Wed, 20 Jul 2022</td> <th>  Prob (F-statistic):</th>  <td>  0.00</td>  \n",
       "</tr>\n",
       "<tr>\n",
       "  <th>Time:</th>                 <td>01:03:22</td>     <th>  Log-Likelihood:    </th> <td> -28833.</td> \n",
       "</tr>\n",
       "<tr>\n",
       "  <th>No. Observations:</th>      <td> 19285</td>      <th>  AIC:               </th> <td>5.768e+04</td>\n",
       "</tr>\n",
       "<tr>\n",
       "  <th>Df Residuals:</th>          <td> 19280</td>      <th>  BIC:               </th> <td>5.772e+04</td>\n",
       "</tr>\n",
       "<tr>\n",
       "  <th>Df Model:</th>              <td>     4</td>      <th>                     </th>     <td> </td>    \n",
       "</tr>\n",
       "<tr>\n",
       "  <th>Covariance Type:</th>      <td>nonrobust</td>    <th>                     </th>     <td> </td>    \n",
       "</tr>\n",
       "</table>\n",
       "<table class=\"simpletable\">\n",
       "<tr>\n",
       "              <td></td>                <th>coef</th>     <th>std err</th>      <th>t</th>      <th>P>|t|</th>  <th>[0.025</th>    <th>0.975]</th>  \n",
       "</tr>\n",
       "<tr>\n",
       "  <th>const</th>                    <td>    4.2791</td> <td>    0.052</td> <td>   81.579</td> <td> 0.000</td> <td>    4.176</td> <td>    4.382</td>\n",
       "</tr>\n",
       "<tr>\n",
       "  <th>Apparent Temperature (C)</th> <td>    0.8486</td> <td>    0.001</td> <td>  777.059</td> <td> 0.000</td> <td>    0.846</td> <td>    0.851</td>\n",
       "</tr>\n",
       "<tr>\n",
       "  <th>Humidity</th>                 <td>   -2.7139</td> <td>    0.052</td> <td>  -51.845</td> <td> 0.000</td> <td>   -2.816</td> <td>   -2.611</td>\n",
       "</tr>\n",
       "<tr>\n",
       "  <th>Visibility (km)</th>          <td>    0.0141</td> <td>    0.002</td> <td>    6.847</td> <td> 0.000</td> <td>    0.010</td> <td>    0.018</td>\n",
       "</tr>\n",
       "<tr>\n",
       "  <th>Precip Type_rain</th>         <td>    0.3322</td> <td>    0.030</td> <td>   11.118</td> <td> 0.000</td> <td>    0.274</td> <td>    0.391</td>\n",
       "</tr>\n",
       "</table>\n",
       "<table class=\"simpletable\">\n",
       "<tr>\n",
       "  <th>Omnibus:</th>       <td>267.331</td> <th>  Durbin-Watson:     </th> <td>   1.990</td> \n",
       "</tr>\n",
       "<tr>\n",
       "  <th>Prob(Omnibus):</th> <td> 0.000</td>  <th>  Jarque-Bera (JB):  </th> <td> 472.135</td> \n",
       "</tr>\n",
       "<tr>\n",
       "  <th>Skew:</th>          <td>-0.080</td>  <th>  Prob(JB):          </th> <td>3.00e-103</td>\n",
       "</tr>\n",
       "<tr>\n",
       "  <th>Kurtosis:</th>      <td> 3.750</td>  <th>  Cond. No.          </th> <td>    164.</td> \n",
       "</tr>\n",
       "</table><br/><br/>Notes:<br/>[1] Standard Errors assume that the covariance matrix of the errors is correctly specified."
      ],
      "text/plain": [
       "<class 'statsmodels.iolib.summary.Summary'>\n",
       "\"\"\"\n",
       "                            OLS Regression Results                            \n",
       "==============================================================================\n",
       "Dep. Variable:        Temperature (C)   R-squared:                       0.987\n",
       "Model:                            OLS   Adj. R-squared:                  0.987\n",
       "Method:                 Least Squares   F-statistic:                 3.748e+05\n",
       "Date:                Wed, 20 Jul 2022   Prob (F-statistic):               0.00\n",
       "Time:                        01:03:22   Log-Likelihood:                -28833.\n",
       "No. Observations:               19285   AIC:                         5.768e+04\n",
       "Df Residuals:                   19280   BIC:                         5.772e+04\n",
       "Df Model:                           4                                         \n",
       "Covariance Type:            nonrobust                                         \n",
       "============================================================================================\n",
       "                               coef    std err          t      P>|t|      [0.025      0.975]\n",
       "--------------------------------------------------------------------------------------------\n",
       "const                        4.2791      0.052     81.579      0.000       4.176       4.382\n",
       "Apparent Temperature (C)     0.8486      0.001    777.059      0.000       0.846       0.851\n",
       "Humidity                    -2.7139      0.052    -51.845      0.000      -2.816      -2.611\n",
       "Visibility (km)              0.0141      0.002      6.847      0.000       0.010       0.018\n",
       "Precip Type_rain             0.3322      0.030     11.118      0.000       0.274       0.391\n",
       "==============================================================================\n",
       "Omnibus:                      267.331   Durbin-Watson:                   1.990\n",
       "Prob(Omnibus):                  0.000   Jarque-Bera (JB):              472.135\n",
       "Skew:                          -0.080   Prob(JB):                    3.00e-103\n",
       "Kurtosis:                       3.750   Cond. No.                         164.\n",
       "==============================================================================\n",
       "\n",
       "Notes:\n",
       "[1] Standard Errors assume that the covariance matrix of the errors is correctly specified.\n",
       "\"\"\""
      ]
     },
     "execution_count": 174,
     "metadata": {},
     "output_type": "execute_result"
    }
   ],
   "source": [
    "modelv_test_new = sm.OLS(yv_test,New_Xv_test_d).fit()\n",
    "print(\"Summary for test-->\")\n",
    "modelv_test_new.summary()"
   ]
  },
  {
   "cell_type": "code",
   "execution_count": 175,
   "id": "2738be96",
   "metadata": {},
   "outputs": [
    {
     "data": {
      "text/html": [
       "<div>\n",
       "<style scoped>\n",
       "    .dataframe tbody tr th:only-of-type {\n",
       "        vertical-align: middle;\n",
       "    }\n",
       "\n",
       "    .dataframe tbody tr th {\n",
       "        vertical-align: top;\n",
       "    }\n",
       "\n",
       "    .dataframe thead th {\n",
       "        text-align: right;\n",
       "    }\n",
       "</style>\n",
       "<table border=\"1\" class=\"dataframe\">\n",
       "  <thead>\n",
       "    <tr style=\"text-align: right;\">\n",
       "      <th></th>\n",
       "      <th>VIF Factor</th>\n",
       "      <th>features</th>\n",
       "    </tr>\n",
       "  </thead>\n",
       "  <tbody>\n",
       "    <tr>\n",
       "      <th>0</th>\n",
       "      <td>45.6</td>\n",
       "      <td>const</td>\n",
       "    </tr>\n",
       "    <tr>\n",
       "      <th>1</th>\n",
       "      <td>2.3</td>\n",
       "      <td>Apparent Temperature (C)</td>\n",
       "    </tr>\n",
       "    <tr>\n",
       "      <th>2</th>\n",
       "      <td>1.7</td>\n",
       "      <td>Humidity</td>\n",
       "    </tr>\n",
       "    <tr>\n",
       "      <th>3</th>\n",
       "      <td>1.2</td>\n",
       "      <td>Visibility (km)</td>\n",
       "    </tr>\n",
       "    <tr>\n",
       "      <th>4</th>\n",
       "      <td>1.5</td>\n",
       "      <td>Precip Type_rain</td>\n",
       "    </tr>\n",
       "  </tbody>\n",
       "</table>\n",
       "</div>"
      ],
      "text/plain": [
       "   VIF Factor                  features\n",
       "0        45.6                     const\n",
       "1         2.3  Apparent Temperature (C)\n",
       "2         1.7                  Humidity\n",
       "3         1.2           Visibility (km)\n",
       "4         1.5          Precip Type_rain"
      ]
     },
     "execution_count": 175,
     "metadata": {},
     "output_type": "execute_result"
    }
   ],
   "source": [
    "vifv_1 = pd.DataFrame()\n",
    "vifv_1[\"VIF Factor\"] =[variance_inflation_factor(New_Xv_test_d.values, j) for j in range(New_Xv_test_d.shape[1])]\n",
    "vifv_1[\"features\"] = New_Xv_test_d.columns\n",
    "vifv_1.round(1)"
   ]
  },
  {
   "cell_type": "markdown",
   "id": "9451ec0a",
   "metadata": {},
   "source": [
    "**Now we can see that there are no multicolinear variables. Also we have included all the variables which we consider to be important**"
   ]
  }
 ],
 "metadata": {
  "kernelspec": {
   "display_name": "Python 3 (ipykernel)",
   "language": "python",
   "name": "python3"
  },
  "language_info": {
   "codemirror_mode": {
    "name": "ipython",
    "version": 3
   },
   "file_extension": ".py",
   "mimetype": "text/x-python",
   "name": "python",
   "nbconvert_exporter": "python",
   "pygments_lexer": "ipython3",
   "version": "3.9.12"
  }
 },
 "nbformat": 4,
 "nbformat_minor": 5
}
